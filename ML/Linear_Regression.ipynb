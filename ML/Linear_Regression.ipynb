{
 "cells": [
  {
   "cell_type": "markdown",
   "id": "02a136bc",
   "metadata": {},
   "source": [
    "## Linear Regression\n",
    "\n",
    "- It is a Supervised ML \n",
    "- We give input features (x) and a continous target (y).\n",
    "- y value will be predicted based on x.\n",
    "- It tries to fit a straighline (or a hyperplane through multiple dimensions)\n",
    "- Equation of a line in simple case is:\n",
    "                   y= mx+c"
   ]
  },
  {
   "cell_type": "markdown",
   "id": "5dcc854d",
   "metadata": {},
   "source": [
    "**How does a model Learn ?**\n",
    "\n",
    "- It starts with a random values of weight (m) and bias (c).\n",
    "- Then it uses Loss function (MSE)\n",
    "\n",
    "MSE= 1/n∑(ytrue- ypred)^2\n",
    "\n",
    "- Optimizer (like Gradient Descent) Updates weight to minimize the error.\n"
   ]
  },
  {
   "cell_type": "markdown",
   "id": "59ab8e9a",
   "metadata": {},
   "source": [
    " **Let's work on a simple data**"
   ]
  },
  {
   "cell_type": "code",
   "execution_count": 1,
   "id": "99efc83c",
   "metadata": {},
   "outputs": [],
   "source": [
    "import numpy as np"
   ]
  },
  {
   "cell_type": "code",
   "execution_count": 2,
   "id": "253cabd5",
   "metadata": {},
   "outputs": [],
   "source": [
    "#x will be the hours studied (Features)\n",
    "x= np.array([1.5, 3.0, 5.0, 7.0, 9.0])\n",
    "\n",
    "#y will be the marks scored (Target)\n",
    "y= np.array([35, 50, 75, 85, 96])"
   ]
  },
  {
   "cell_type": "code",
   "execution_count": null,
   "id": "5cee2791",
   "metadata": {},
   "outputs": [],
   "source": []
  }
 ],
 "metadata": {
  "kernelspec": {
   "display_name": "Python 3",
   "language": "python",
   "name": "python3"
  },
  "language_info": {
   "codemirror_mode": {
    "name": "ipython",
    "version": 3
   },
   "file_extension": ".py",
   "mimetype": "text/x-python",
   "name": "python",
   "nbconvert_exporter": "python",
   "pygments_lexer": "ipython3",
   "version": "3.13.3"
  }
 },
 "nbformat": 4,
 "nbformat_minor": 5
}
