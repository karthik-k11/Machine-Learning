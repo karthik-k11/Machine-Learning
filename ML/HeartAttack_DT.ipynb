{
 "cells": [
  {
   "cell_type": "markdown",
   "id": "764b424a",
   "metadata": {},
   "source": [
    "### **Applying Decision tree Algorithm for heart attack data**"
   ]
  },
  {
   "cell_type": "code",
   "execution_count": 1,
   "id": "374e80e5",
   "metadata": {},
   "outputs": [],
   "source": [
    "## import necessary libraries\n",
    "import pandas as pd \n",
    "import matplotlib.pyplot as plt\n",
    "import numpy as np\n",
    "import seaborn as sns"
   ]
  }
 ],
 "metadata": {
  "kernelspec": {
   "display_name": "Python 3",
   "language": "python",
   "name": "python3"
  },
  "language_info": {
   "codemirror_mode": {
    "name": "ipython",
    "version": 3
   },
   "file_extension": ".py",
   "mimetype": "text/x-python",
   "name": "python",
   "nbconvert_exporter": "python",
   "pygments_lexer": "ipython3",
   "version": "3.13.3"
  }
 },
 "nbformat": 4,
 "nbformat_minor": 5
}
