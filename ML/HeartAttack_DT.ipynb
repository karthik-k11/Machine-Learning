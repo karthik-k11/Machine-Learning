{
 "cells": [
  {
   "cell_type": "markdown",
   "id": "764b424a",
   "metadata": {},
   "source": [
    "### **Applying Decision tree Algorithm for heart attack data**"
   ]
  },
  {
   "cell_type": "code",
   "execution_count": null,
   "id": "374e80e5",
   "metadata": {},
   "outputs": [],
   "source": [
    "## import necessary libraries\n",
    "import "
   ]
  }
 ],
 "metadata": {
  "language_info": {
   "name": "python"
  }
 },
 "nbformat": 4,
 "nbformat_minor": 5
}
