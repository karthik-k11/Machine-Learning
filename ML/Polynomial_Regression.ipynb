{
 "cells": [
  {
   "cell_type": "markdown",
   "id": "f55318db",
   "metadata": {},
   "source": [
    "### **This notebook is for practicing Polynomial Regression**"
   ]
  },
  {
   "cell_type": "code",
   "execution_count": 1,
   "id": "d26ac4e2",
   "metadata": {},
   "outputs": [],
   "source": [
    "import pandas as pd"
   ]
  }
 ],
 "metadata": {
  "kernelspec": {
   "display_name": "Python 3",
   "language": "python",
   "name": "python3"
  },
  "language_info": {
   "codemirror_mode": {
    "name": "ipython",
    "version": 3
   },
   "file_extension": ".py",
   "mimetype": "text/x-python",
   "name": "python",
   "nbconvert_exporter": "python",
   "pygments_lexer": "ipython3",
   "version": "3.13.3"
  }
 },
 "nbformat": 4,
 "nbformat_minor": 5
}
