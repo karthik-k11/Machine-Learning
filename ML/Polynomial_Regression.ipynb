{
 "cells": [
  {
   "cell_type": "markdown",
   "id": "f55318db",
   "metadata": {},
   "source": [
    "### **This notebook is for practicing Polynomial Regression**"
   ]
  },
  {
   "cell_type": "markdown",
   "id": "83856935",
   "metadata": {},
   "source": []
  }
 ],
 "metadata": {
  "language_info": {
   "name": "python"
  }
 },
 "nbformat": 4,
 "nbformat_minor": 5
}
