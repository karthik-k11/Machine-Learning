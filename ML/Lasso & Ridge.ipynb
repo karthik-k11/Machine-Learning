{
 "cells": [
  {
   "cell_type": "markdown",
   "id": "e9d4535c",
   "metadata": {},
   "source": [
    "### **This Notebook Contains of Lasso and Ridge Practice**\n",
    "\n",
    "**Why Lasso and Ridge ?**\n",
    " \n",
    "- After fitting into polynomial regression, we may notice overfitting.\n",
    "- Which means model predicts with high accyuracy on training data and testing accuracy drops.\n",
    "- The problem is: Model has too many coeffecients with very high values.\n",
    "- Soln: Lasso and Ridge method."
   ]
  },
  {
   "cell_type": "markdown",
   "id": "71f17e7e",
   "metadata": {},
   "source": [
    "**Lasso Regularization (L1)**\n",
    "- Lasso - Least Absolute Shrinkage and Selection Operator\n",
    "-  Removes the features that are not important, makes the model simple \n",
    "- The model adds penalty for using too many features, it not only reduces overfitting also helps for feature selection"
   ]
  },
  {
   "cell_type": "markdown",
   "id": "189c0bdb",
   "metadata": {},
   "source": [
    "**Ridge Regularization (L2)**\n",
    "- This feature tries to reduce the weight but not to zero\n",
    "- It makes the model not to rely too much on any features by reducing large coeffecients\n",
    "- This gives a more balanced model. It is used when all features are important but overfitting should be controlled as well"
   ]
  }
 ],
 "metadata": {
  "language_info": {
   "name": "python"
  }
 },
 "nbformat": 4,
 "nbformat_minor": 5
}
