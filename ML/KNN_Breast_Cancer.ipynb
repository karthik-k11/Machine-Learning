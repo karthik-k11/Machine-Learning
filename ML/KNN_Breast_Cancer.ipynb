{
 "cells": [
  {
   "cell_type": "markdown",
   "id": "b1228ccb",
   "metadata": {},
   "source": [
    "### **This notebook is for practicing KNN on Breast Cancer dataset**\n",
    "\n",
    "- After Applying logistiv=c regression algorithm on breaste cancer dataset, I'm going to apply KNN algorithm on the same dataset\n",
    "- Let's compare the results of this with logistic regression"
   ]
  },
  {
   "cell_type": "code",
   "execution_count": 1,
   "id": "b40c5701",
   "metadata": {},
   "outputs": [],
   "source": [
    "import numpy as np\n",
    "import pandas as pd \n",
    "from sklearn.datasets import load_breast_cancer"
   ]
  },
  {
   "cell_type": "code",
   "execution_count": null,
   "id": "91e4053c",
   "metadata": {},
   "outputs": [],
   "source": []
  }
 ],
 "metadata": {
  "kernelspec": {
   "display_name": "Python 3",
   "language": "python",
   "name": "python3"
  },
  "language_info": {
   "codemirror_mode": {
    "name": "ipython",
    "version": 3
   },
   "file_extension": ".py",
   "mimetype": "text/x-python",
   "name": "python",
   "nbconvert_exporter": "python",
   "pygments_lexer": "ipython3",
   "version": "3.13.3"
  }
 },
 "nbformat": 4,
 "nbformat_minor": 5
}
