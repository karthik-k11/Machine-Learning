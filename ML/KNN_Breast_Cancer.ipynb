{
 "cells": [
  {
   "cell_type": "markdown",
   "id": "b1228ccb",
   "metadata": {},
   "source": [
    "### **This notebook is for practicing KNN on Breast Cancer dataset**\n",
    "\n",
    "- After Applying logistiv=c regression algorithm on breaste cancer dataset, I'm going to apply KNN algorithm on the same dataset\n",
    "- Let's compare the results of this with logistic regression"
   ]
  }
 ],
 "metadata": {
  "language_info": {
   "name": "python"
  }
 },
 "nbformat": 4,
 "nbformat_minor": 5
}
