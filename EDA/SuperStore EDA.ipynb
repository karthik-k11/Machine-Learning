{
 "cells": [
  {
   "cell_type": "markdown",
   "id": "bb93398d",
   "metadata": {},
   "source": [
    "## **Superstore Sales Analysis**\n",
    "## *Problem Statement*\n",
    "\n",
    "Retail companies face challenges in managing profitability and efficiency across various geographies, categories, and customer segments. This analysis aims to analyze historical sales data from a Superstore to uncover insights that can:\n",
    "\n",
    "- Improve regional sales performance\n",
    "\n",
    "- Identify profitable and loss-making categories\n",
    "\n",
    "- Optimize discount strategies\n",
    "\n",
    "- Guide decision-making for better logistics and marketing"
   ]
  },
  {
   "cell_type": "markdown",
   "id": "8aca5091",
   "metadata": {},
   "source": [
    "**Import necessary libraries**\n",
    "\n",
    "- This is the necessary step while initializing the ML model using python\n",
    "\n",
    "- Importin necessary libraries like:-\n",
    "\n",
    "- pandas for data manipulation(eg: loading the dataset, describing, getting shape of the dataset, etc...)\n",
    "\n",
    "- numpy for numerical calculations \n",
    "\n",
    "- matplotlib and seaborn both for visualizing the data analysis"
   ]
  },
  {
   "cell_type": "code",
   "execution_count": 55,
   "id": "a18ec46b",
   "metadata": {},
   "outputs": [],
   "source": [
    "import pandas as pd\n",
    "import numpy as np\n",
    "import matplotlib.pyplot as plt\n",
    "import seaborn as sns"
   ]
  },
  {
   "cell_type": "markdown",
   "id": "c7231ea3",
   "metadata": {},
   "source": [
    "**Load the Dataset**"
   ]
  },
  {
   "cell_type": "code",
   "execution_count": 56,
   "id": "4710934c",
   "metadata": {},
   "outputs": [],
   "source": [
    "df = pd.read_csv(r\"C:\\Users\\Karth\\Downloads\\Machine learning\\Datasets\\Sample - Superstore.csv\", encoding='unicode_escape')\n"
   ]
  },
  {
   "cell_type": "code",
   "execution_count": 57,
   "id": "4471650a",
   "metadata": {},
   "outputs": [
    {
     "data": {
      "text/html": [
       "<div>\n",
       "<style scoped>\n",
       "    .dataframe tbody tr th:only-of-type {\n",
       "        vertical-align: middle;\n",
       "    }\n",
       "\n",
       "    .dataframe tbody tr th {\n",
       "        vertical-align: top;\n",
       "    }\n",
       "\n",
       "    .dataframe thead th {\n",
       "        text-align: right;\n",
       "    }\n",
       "</style>\n",
       "<table border=\"1\" class=\"dataframe\">\n",
       "  <thead>\n",
       "    <tr style=\"text-align: right;\">\n",
       "      <th></th>\n",
       "      <th>Row ID</th>\n",
       "      <th>Order ID</th>\n",
       "      <th>Order Date</th>\n",
       "      <th>Ship Date</th>\n",
       "      <th>Ship Mode</th>\n",
       "      <th>Customer ID</th>\n",
       "      <th>Customer Name</th>\n",
       "      <th>Segment</th>\n",
       "      <th>Country</th>\n",
       "      <th>City</th>\n",
       "      <th>...</th>\n",
       "      <th>Postal Code</th>\n",
       "      <th>Region</th>\n",
       "      <th>Product ID</th>\n",
       "      <th>Category</th>\n",
       "      <th>Sub-Category</th>\n",
       "      <th>Product Name</th>\n",
       "      <th>Sales</th>\n",
       "      <th>Quantity</th>\n",
       "      <th>Discount</th>\n",
       "      <th>Profit</th>\n",
       "    </tr>\n",
       "  </thead>\n",
       "  <tbody>\n",
       "    <tr>\n",
       "      <th>0</th>\n",
       "      <td>1</td>\n",
       "      <td>CA-2016-152156</td>\n",
       "      <td>11/8/2016</td>\n",
       "      <td>11/11/2016</td>\n",
       "      <td>Second Class</td>\n",
       "      <td>CG-12520</td>\n",
       "      <td>Claire Gute</td>\n",
       "      <td>Consumer</td>\n",
       "      <td>United States</td>\n",
       "      <td>Henderson</td>\n",
       "      <td>...</td>\n",
       "      <td>42420</td>\n",
       "      <td>South</td>\n",
       "      <td>FUR-BO-10001798</td>\n",
       "      <td>Furniture</td>\n",
       "      <td>Bookcases</td>\n",
       "      <td>Bush Somerset Collection Bookcase</td>\n",
       "      <td>261.9600</td>\n",
       "      <td>2</td>\n",
       "      <td>0.00</td>\n",
       "      <td>41.9136</td>\n",
       "    </tr>\n",
       "    <tr>\n",
       "      <th>1</th>\n",
       "      <td>2</td>\n",
       "      <td>CA-2016-152156</td>\n",
       "      <td>11/8/2016</td>\n",
       "      <td>11/11/2016</td>\n",
       "      <td>Second Class</td>\n",
       "      <td>CG-12520</td>\n",
       "      <td>Claire Gute</td>\n",
       "      <td>Consumer</td>\n",
       "      <td>United States</td>\n",
       "      <td>Henderson</td>\n",
       "      <td>...</td>\n",
       "      <td>42420</td>\n",
       "      <td>South</td>\n",
       "      <td>FUR-CH-10000454</td>\n",
       "      <td>Furniture</td>\n",
       "      <td>Chairs</td>\n",
       "      <td>Hon Deluxe Fabric Upholstered Stacking Chairs,...</td>\n",
       "      <td>731.9400</td>\n",
       "      <td>3</td>\n",
       "      <td>0.00</td>\n",
       "      <td>219.5820</td>\n",
       "    </tr>\n",
       "    <tr>\n",
       "      <th>2</th>\n",
       "      <td>3</td>\n",
       "      <td>CA-2016-138688</td>\n",
       "      <td>6/12/2016</td>\n",
       "      <td>6/16/2016</td>\n",
       "      <td>Second Class</td>\n",
       "      <td>DV-13045</td>\n",
       "      <td>Darrin Van Huff</td>\n",
       "      <td>Corporate</td>\n",
       "      <td>United States</td>\n",
       "      <td>Los Angeles</td>\n",
       "      <td>...</td>\n",
       "      <td>90036</td>\n",
       "      <td>West</td>\n",
       "      <td>OFF-LA-10000240</td>\n",
       "      <td>Office Supplies</td>\n",
       "      <td>Labels</td>\n",
       "      <td>Self-Adhesive Address Labels for Typewriters b...</td>\n",
       "      <td>14.6200</td>\n",
       "      <td>2</td>\n",
       "      <td>0.00</td>\n",
       "      <td>6.8714</td>\n",
       "    </tr>\n",
       "    <tr>\n",
       "      <th>3</th>\n",
       "      <td>4</td>\n",
       "      <td>US-2015-108966</td>\n",
       "      <td>10/11/2015</td>\n",
       "      <td>10/18/2015</td>\n",
       "      <td>Standard Class</td>\n",
       "      <td>SO-20335</td>\n",
       "      <td>Sean O'Donnell</td>\n",
       "      <td>Consumer</td>\n",
       "      <td>United States</td>\n",
       "      <td>Fort Lauderdale</td>\n",
       "      <td>...</td>\n",
       "      <td>33311</td>\n",
       "      <td>South</td>\n",
       "      <td>FUR-TA-10000577</td>\n",
       "      <td>Furniture</td>\n",
       "      <td>Tables</td>\n",
       "      <td>Bretford CR4500 Series Slim Rectangular Table</td>\n",
       "      <td>957.5775</td>\n",
       "      <td>5</td>\n",
       "      <td>0.45</td>\n",
       "      <td>-383.0310</td>\n",
       "    </tr>\n",
       "    <tr>\n",
       "      <th>4</th>\n",
       "      <td>5</td>\n",
       "      <td>US-2015-108966</td>\n",
       "      <td>10/11/2015</td>\n",
       "      <td>10/18/2015</td>\n",
       "      <td>Standard Class</td>\n",
       "      <td>SO-20335</td>\n",
       "      <td>Sean O'Donnell</td>\n",
       "      <td>Consumer</td>\n",
       "      <td>United States</td>\n",
       "      <td>Fort Lauderdale</td>\n",
       "      <td>...</td>\n",
       "      <td>33311</td>\n",
       "      <td>South</td>\n",
       "      <td>OFF-ST-10000760</td>\n",
       "      <td>Office Supplies</td>\n",
       "      <td>Storage</td>\n",
       "      <td>Eldon Fold 'N Roll Cart System</td>\n",
       "      <td>22.3680</td>\n",
       "      <td>2</td>\n",
       "      <td>0.20</td>\n",
       "      <td>2.5164</td>\n",
       "    </tr>\n",
       "  </tbody>\n",
       "</table>\n",
       "<p>5 rows × 21 columns</p>\n",
       "</div>"
      ],
      "text/plain": [
       "   Row ID        Order ID  Order Date   Ship Date       Ship Mode Customer ID  \\\n",
       "0       1  CA-2016-152156   11/8/2016  11/11/2016    Second Class    CG-12520   \n",
       "1       2  CA-2016-152156   11/8/2016  11/11/2016    Second Class    CG-12520   \n",
       "2       3  CA-2016-138688   6/12/2016   6/16/2016    Second Class    DV-13045   \n",
       "3       4  US-2015-108966  10/11/2015  10/18/2015  Standard Class    SO-20335   \n",
       "4       5  US-2015-108966  10/11/2015  10/18/2015  Standard Class    SO-20335   \n",
       "\n",
       "     Customer Name    Segment        Country             City  ...  \\\n",
       "0      Claire Gute   Consumer  United States        Henderson  ...   \n",
       "1      Claire Gute   Consumer  United States        Henderson  ...   \n",
       "2  Darrin Van Huff  Corporate  United States      Los Angeles  ...   \n",
       "3   Sean O'Donnell   Consumer  United States  Fort Lauderdale  ...   \n",
       "4   Sean O'Donnell   Consumer  United States  Fort Lauderdale  ...   \n",
       "\n",
       "  Postal Code  Region       Product ID         Category Sub-Category  \\\n",
       "0       42420   South  FUR-BO-10001798        Furniture    Bookcases   \n",
       "1       42420   South  FUR-CH-10000454        Furniture       Chairs   \n",
       "2       90036    West  OFF-LA-10000240  Office Supplies       Labels   \n",
       "3       33311   South  FUR-TA-10000577        Furniture       Tables   \n",
       "4       33311   South  OFF-ST-10000760  Office Supplies      Storage   \n",
       "\n",
       "                                        Product Name     Sales  Quantity  \\\n",
       "0                  Bush Somerset Collection Bookcase  261.9600         2   \n",
       "1  Hon Deluxe Fabric Upholstered Stacking Chairs,...  731.9400         3   \n",
       "2  Self-Adhesive Address Labels for Typewriters b...   14.6200         2   \n",
       "3      Bretford CR4500 Series Slim Rectangular Table  957.5775         5   \n",
       "4                     Eldon Fold 'N Roll Cart System   22.3680         2   \n",
       "\n",
       "   Discount    Profit  \n",
       "0      0.00   41.9136  \n",
       "1      0.00  219.5820  \n",
       "2      0.00    6.8714  \n",
       "3      0.45 -383.0310  \n",
       "4      0.20    2.5164  \n",
       "\n",
       "[5 rows x 21 columns]"
      ]
     },
     "execution_count": 57,
     "metadata": {},
     "output_type": "execute_result"
    }
   ],
   "source": [
    "##Show the starting few rows of dataset\n",
    "df.head()"
   ]
  },
  {
   "cell_type": "markdown",
   "id": "c73f6128",
   "metadata": {},
   "source": [
    "**Purpose:** Displays the first 5 rows of the DataFrame.\n",
    "\n",
    "**Why use:** Quick overview of the data structure."
   ]
  },
  {
   "cell_type": "markdown",
   "id": "716826ff",
   "metadata": {},
   "source": [
    "**Dataset Overview**"
   ]
  },
  {
   "cell_type": "code",
   "execution_count": 58,
   "id": "a6c56da2",
   "metadata": {},
   "outputs": [
    {
     "data": {
      "text/plain": [
       "(9994, 21)"
      ]
     },
     "execution_count": 58,
     "metadata": {},
     "output_type": "execute_result"
    }
   ],
   "source": [
    "##return how many rows and columns \n",
    "df.shape"
   ]
  },
  {
   "cell_type": "markdown",
   "id": "aadd08ad",
   "metadata": {},
   "source": [
    "**Purpose:** Returns a tuple representing the dataset’s shape.\n",
    "\n",
    "**Output:** (rows, columns)\n",
    "\n",
    "**Why use:** Know the size of your dataset."
   ]
  },
  {
   "cell_type": "code",
   "execution_count": 59,
   "id": "9283c70c",
   "metadata": {},
   "outputs": [
    {
     "name": "stdout",
     "output_type": "stream",
     "text": [
      "<class 'pandas.core.frame.DataFrame'>\n",
      "RangeIndex: 9994 entries, 0 to 9993\n",
      "Data columns (total 21 columns):\n",
      " #   Column         Non-Null Count  Dtype  \n",
      "---  ------         --------------  -----  \n",
      " 0   Row ID         9994 non-null   int64  \n",
      " 1   Order ID       9994 non-null   object \n",
      " 2   Order Date     9994 non-null   object \n",
      " 3   Ship Date      9994 non-null   object \n",
      " 4   Ship Mode      9994 non-null   object \n",
      " 5   Customer ID    9994 non-null   object \n",
      " 6   Customer Name  9994 non-null   object \n",
      " 7   Segment        9994 non-null   object \n",
      " 8   Country        9994 non-null   object \n",
      " 9   City           9994 non-null   object \n",
      " 10  State          9994 non-null   object \n",
      " 11  Postal Code    9994 non-null   int64  \n",
      " 12  Region         9994 non-null   object \n",
      " 13  Product ID     9994 non-null   object \n",
      " 14  Category       9994 non-null   object \n",
      " 15  Sub-Category   9994 non-null   object \n",
      " 16  Product Name   9994 non-null   object \n",
      " 17  Sales          9994 non-null   float64\n",
      " 18  Quantity       9994 non-null   int64  \n",
      " 19  Discount       9994 non-null   float64\n",
      " 20  Profit         9994 non-null   float64\n",
      "dtypes: float64(3), int64(3), object(15)\n",
      "memory usage: 1.6+ MB\n"
     ]
    }
   ],
   "source": [
    "#return the information such as data type of the column\n",
    "df.info()"
   ]
  },
  {
   "cell_type": "markdown",
   "id": "ee6b9170",
   "metadata": {},
   "source": [
    "**Purpose:** Summary of the dataset:\n",
    "\n",
    "-Number of non-null values\n",
    "\n",
    "-Column names\n",
    "\n",
    "-Data types (int, float, object)\n",
    "\n",
    "-Memory usage\n",
    "\n",
    "**Why use:** Check data types & missing values."
   ]
  },
  {
   "cell_type": "code",
   "execution_count": 60,
   "id": "423f4f34",
   "metadata": {},
   "outputs": [
    {
     "data": {
      "text/html": [
       "<div>\n",
       "<style scoped>\n",
       "    .dataframe tbody tr th:only-of-type {\n",
       "        vertical-align: middle;\n",
       "    }\n",
       "\n",
       "    .dataframe tbody tr th {\n",
       "        vertical-align: top;\n",
       "    }\n",
       "\n",
       "    .dataframe thead th {\n",
       "        text-align: right;\n",
       "    }\n",
       "</style>\n",
       "<table border=\"1\" class=\"dataframe\">\n",
       "  <thead>\n",
       "    <tr style=\"text-align: right;\">\n",
       "      <th></th>\n",
       "      <th>Row ID</th>\n",
       "      <th>Postal Code</th>\n",
       "      <th>Sales</th>\n",
       "      <th>Quantity</th>\n",
       "      <th>Discount</th>\n",
       "      <th>Profit</th>\n",
       "    </tr>\n",
       "  </thead>\n",
       "  <tbody>\n",
       "    <tr>\n",
       "      <th>count</th>\n",
       "      <td>9994.000000</td>\n",
       "      <td>9994.000000</td>\n",
       "      <td>9994.000000</td>\n",
       "      <td>9994.000000</td>\n",
       "      <td>9994.000000</td>\n",
       "      <td>9994.000000</td>\n",
       "    </tr>\n",
       "    <tr>\n",
       "      <th>mean</th>\n",
       "      <td>4997.500000</td>\n",
       "      <td>55190.379428</td>\n",
       "      <td>229.858001</td>\n",
       "      <td>3.789574</td>\n",
       "      <td>0.156203</td>\n",
       "      <td>28.656896</td>\n",
       "    </tr>\n",
       "    <tr>\n",
       "      <th>std</th>\n",
       "      <td>2885.163629</td>\n",
       "      <td>32063.693350</td>\n",
       "      <td>623.245101</td>\n",
       "      <td>2.225110</td>\n",
       "      <td>0.206452</td>\n",
       "      <td>234.260108</td>\n",
       "    </tr>\n",
       "    <tr>\n",
       "      <th>min</th>\n",
       "      <td>1.000000</td>\n",
       "      <td>1040.000000</td>\n",
       "      <td>0.444000</td>\n",
       "      <td>1.000000</td>\n",
       "      <td>0.000000</td>\n",
       "      <td>-6599.978000</td>\n",
       "    </tr>\n",
       "    <tr>\n",
       "      <th>25%</th>\n",
       "      <td>2499.250000</td>\n",
       "      <td>23223.000000</td>\n",
       "      <td>17.280000</td>\n",
       "      <td>2.000000</td>\n",
       "      <td>0.000000</td>\n",
       "      <td>1.728750</td>\n",
       "    </tr>\n",
       "    <tr>\n",
       "      <th>50%</th>\n",
       "      <td>4997.500000</td>\n",
       "      <td>56430.500000</td>\n",
       "      <td>54.490000</td>\n",
       "      <td>3.000000</td>\n",
       "      <td>0.200000</td>\n",
       "      <td>8.666500</td>\n",
       "    </tr>\n",
       "    <tr>\n",
       "      <th>75%</th>\n",
       "      <td>7495.750000</td>\n",
       "      <td>90008.000000</td>\n",
       "      <td>209.940000</td>\n",
       "      <td>5.000000</td>\n",
       "      <td>0.200000</td>\n",
       "      <td>29.364000</td>\n",
       "    </tr>\n",
       "    <tr>\n",
       "      <th>max</th>\n",
       "      <td>9994.000000</td>\n",
       "      <td>99301.000000</td>\n",
       "      <td>22638.480000</td>\n",
       "      <td>14.000000</td>\n",
       "      <td>0.800000</td>\n",
       "      <td>8399.976000</td>\n",
       "    </tr>\n",
       "  </tbody>\n",
       "</table>\n",
       "</div>"
      ],
      "text/plain": [
       "            Row ID   Postal Code         Sales     Quantity     Discount  \\\n",
       "count  9994.000000   9994.000000   9994.000000  9994.000000  9994.000000   \n",
       "mean   4997.500000  55190.379428    229.858001     3.789574     0.156203   \n",
       "std    2885.163629  32063.693350    623.245101     2.225110     0.206452   \n",
       "min       1.000000   1040.000000      0.444000     1.000000     0.000000   \n",
       "25%    2499.250000  23223.000000     17.280000     2.000000     0.000000   \n",
       "50%    4997.500000  56430.500000     54.490000     3.000000     0.200000   \n",
       "75%    7495.750000  90008.000000    209.940000     5.000000     0.200000   \n",
       "max    9994.000000  99301.000000  22638.480000    14.000000     0.800000   \n",
       "\n",
       "            Profit  \n",
       "count  9994.000000  \n",
       "mean     28.656896  \n",
       "std     234.260108  \n",
       "min   -6599.978000  \n",
       "25%       1.728750  \n",
       "50%       8.666500  \n",
       "75%      29.364000  \n",
       "max    8399.976000  "
      ]
     },
     "execution_count": 60,
     "metadata": {},
     "output_type": "execute_result"
    }
   ],
   "source": [
    "#Summary of statistics of the numerical columns\n",
    "df.describe()"
   ]
  },
  {
   "cell_type": "markdown",
   "id": "1b2b91fa",
   "metadata": {},
   "source": [
    "**Purpose:** Summary statistics of numerical columns only\n",
    "\n",
    "**Includes:** count, mean, std, min, 25%, 50%, 75%, max\n",
    "\n",
    "**Why use:** Understand distribution and spread of numeric data."
   ]
  },
  {
   "cell_type": "code",
   "execution_count": 61,
   "id": "5bb5cf99",
   "metadata": {},
   "outputs": [
    {
     "data": {
      "text/html": [
       "<div>\n",
       "<style scoped>\n",
       "    .dataframe tbody tr th:only-of-type {\n",
       "        vertical-align: middle;\n",
       "    }\n",
       "\n",
       "    .dataframe tbody tr th {\n",
       "        vertical-align: top;\n",
       "    }\n",
       "\n",
       "    .dataframe thead th {\n",
       "        text-align: right;\n",
       "    }\n",
       "</style>\n",
       "<table border=\"1\" class=\"dataframe\">\n",
       "  <thead>\n",
       "    <tr style=\"text-align: right;\">\n",
       "      <th></th>\n",
       "      <th>count</th>\n",
       "      <th>mean</th>\n",
       "      <th>std</th>\n",
       "      <th>min</th>\n",
       "      <th>25%</th>\n",
       "      <th>50%</th>\n",
       "      <th>75%</th>\n",
       "      <th>max</th>\n",
       "    </tr>\n",
       "  </thead>\n",
       "  <tbody>\n",
       "    <tr>\n",
       "      <th>Row ID</th>\n",
       "      <td>9994.0</td>\n",
       "      <td>4997.500000</td>\n",
       "      <td>2885.163629</td>\n",
       "      <td>1.000</td>\n",
       "      <td>2499.25000</td>\n",
       "      <td>4997.5000</td>\n",
       "      <td>7495.750</td>\n",
       "      <td>9994.000</td>\n",
       "    </tr>\n",
       "    <tr>\n",
       "      <th>Postal Code</th>\n",
       "      <td>9994.0</td>\n",
       "      <td>55190.379428</td>\n",
       "      <td>32063.693350</td>\n",
       "      <td>1040.000</td>\n",
       "      <td>23223.00000</td>\n",
       "      <td>56430.5000</td>\n",
       "      <td>90008.000</td>\n",
       "      <td>99301.000</td>\n",
       "    </tr>\n",
       "    <tr>\n",
       "      <th>Sales</th>\n",
       "      <td>9994.0</td>\n",
       "      <td>229.858001</td>\n",
       "      <td>623.245101</td>\n",
       "      <td>0.444</td>\n",
       "      <td>17.28000</td>\n",
       "      <td>54.4900</td>\n",
       "      <td>209.940</td>\n",
       "      <td>22638.480</td>\n",
       "    </tr>\n",
       "    <tr>\n",
       "      <th>Quantity</th>\n",
       "      <td>9994.0</td>\n",
       "      <td>3.789574</td>\n",
       "      <td>2.225110</td>\n",
       "      <td>1.000</td>\n",
       "      <td>2.00000</td>\n",
       "      <td>3.0000</td>\n",
       "      <td>5.000</td>\n",
       "      <td>14.000</td>\n",
       "    </tr>\n",
       "    <tr>\n",
       "      <th>Discount</th>\n",
       "      <td>9994.0</td>\n",
       "      <td>0.156203</td>\n",
       "      <td>0.206452</td>\n",
       "      <td>0.000</td>\n",
       "      <td>0.00000</td>\n",
       "      <td>0.2000</td>\n",
       "      <td>0.200</td>\n",
       "      <td>0.800</td>\n",
       "    </tr>\n",
       "    <tr>\n",
       "      <th>Profit</th>\n",
       "      <td>9994.0</td>\n",
       "      <td>28.656896</td>\n",
       "      <td>234.260108</td>\n",
       "      <td>-6599.978</td>\n",
       "      <td>1.72875</td>\n",
       "      <td>8.6665</td>\n",
       "      <td>29.364</td>\n",
       "      <td>8399.976</td>\n",
       "    </tr>\n",
       "  </tbody>\n",
       "</table>\n",
       "</div>"
      ],
      "text/plain": [
       "              count          mean           std       min          25%  \\\n",
       "Row ID       9994.0   4997.500000   2885.163629     1.000   2499.25000   \n",
       "Postal Code  9994.0  55190.379428  32063.693350  1040.000  23223.00000   \n",
       "Sales        9994.0    229.858001    623.245101     0.444     17.28000   \n",
       "Quantity     9994.0      3.789574      2.225110     1.000      2.00000   \n",
       "Discount     9994.0      0.156203      0.206452     0.000      0.00000   \n",
       "Profit       9994.0     28.656896    234.260108 -6599.978      1.72875   \n",
       "\n",
       "                    50%        75%        max  \n",
       "Row ID        4997.5000   7495.750   9994.000  \n",
       "Postal Code  56430.5000  90008.000  99301.000  \n",
       "Sales           54.4900    209.940  22638.480  \n",
       "Quantity         3.0000      5.000     14.000  \n",
       "Discount         0.2000      0.200      0.800  \n",
       "Profit           8.6665     29.364   8399.976  "
      ]
     },
     "execution_count": 61,
     "metadata": {},
     "output_type": "execute_result"
    }
   ],
   "source": [
    "df.describe().T"
   ]
  },
  {
   "cell_type": "markdown",
   "id": "f3f5cd7c",
   "metadata": {},
   "source": [
    "**Purpose:** Transposed version of describe()\n",
    "\n",
    "**Why use:** Easier to read when many features"
   ]
  },
  {
   "cell_type": "code",
   "execution_count": 62,
   "id": "fb355a88",
   "metadata": {},
   "outputs": [
    {
     "data": {
      "text/html": [
       "<div>\n",
       "<style scoped>\n",
       "    .dataframe tbody tr th:only-of-type {\n",
       "        vertical-align: middle;\n",
       "    }\n",
       "\n",
       "    .dataframe tbody tr th {\n",
       "        vertical-align: top;\n",
       "    }\n",
       "\n",
       "    .dataframe thead th {\n",
       "        text-align: right;\n",
       "    }\n",
       "</style>\n",
       "<table border=\"1\" class=\"dataframe\">\n",
       "  <thead>\n",
       "    <tr style=\"text-align: right;\">\n",
       "      <th></th>\n",
       "      <th>count</th>\n",
       "      <th>unique</th>\n",
       "      <th>top</th>\n",
       "      <th>freq</th>\n",
       "    </tr>\n",
       "  </thead>\n",
       "  <tbody>\n",
       "    <tr>\n",
       "      <th>Order ID</th>\n",
       "      <td>9994</td>\n",
       "      <td>5009</td>\n",
       "      <td>CA-2017-100111</td>\n",
       "      <td>14</td>\n",
       "    </tr>\n",
       "    <tr>\n",
       "      <th>Order Date</th>\n",
       "      <td>9994</td>\n",
       "      <td>1237</td>\n",
       "      <td>9/5/2016</td>\n",
       "      <td>38</td>\n",
       "    </tr>\n",
       "    <tr>\n",
       "      <th>Ship Date</th>\n",
       "      <td>9994</td>\n",
       "      <td>1334</td>\n",
       "      <td>12/16/2015</td>\n",
       "      <td>35</td>\n",
       "    </tr>\n",
       "    <tr>\n",
       "      <th>Ship Mode</th>\n",
       "      <td>9994</td>\n",
       "      <td>4</td>\n",
       "      <td>Standard Class</td>\n",
       "      <td>5968</td>\n",
       "    </tr>\n",
       "    <tr>\n",
       "      <th>Customer ID</th>\n",
       "      <td>9994</td>\n",
       "      <td>793</td>\n",
       "      <td>WB-21850</td>\n",
       "      <td>37</td>\n",
       "    </tr>\n",
       "    <tr>\n",
       "      <th>Customer Name</th>\n",
       "      <td>9994</td>\n",
       "      <td>793</td>\n",
       "      <td>William Brown</td>\n",
       "      <td>37</td>\n",
       "    </tr>\n",
       "    <tr>\n",
       "      <th>Segment</th>\n",
       "      <td>9994</td>\n",
       "      <td>3</td>\n",
       "      <td>Consumer</td>\n",
       "      <td>5191</td>\n",
       "    </tr>\n",
       "    <tr>\n",
       "      <th>Country</th>\n",
       "      <td>9994</td>\n",
       "      <td>1</td>\n",
       "      <td>United States</td>\n",
       "      <td>9994</td>\n",
       "    </tr>\n",
       "    <tr>\n",
       "      <th>City</th>\n",
       "      <td>9994</td>\n",
       "      <td>531</td>\n",
       "      <td>New York City</td>\n",
       "      <td>915</td>\n",
       "    </tr>\n",
       "    <tr>\n",
       "      <th>State</th>\n",
       "      <td>9994</td>\n",
       "      <td>49</td>\n",
       "      <td>California</td>\n",
       "      <td>2001</td>\n",
       "    </tr>\n",
       "    <tr>\n",
       "      <th>Region</th>\n",
       "      <td>9994</td>\n",
       "      <td>4</td>\n",
       "      <td>West</td>\n",
       "      <td>3203</td>\n",
       "    </tr>\n",
       "    <tr>\n",
       "      <th>Product ID</th>\n",
       "      <td>9994</td>\n",
       "      <td>1862</td>\n",
       "      <td>OFF-PA-10001970</td>\n",
       "      <td>19</td>\n",
       "    </tr>\n",
       "    <tr>\n",
       "      <th>Category</th>\n",
       "      <td>9994</td>\n",
       "      <td>3</td>\n",
       "      <td>Office Supplies</td>\n",
       "      <td>6026</td>\n",
       "    </tr>\n",
       "    <tr>\n",
       "      <th>Sub-Category</th>\n",
       "      <td>9994</td>\n",
       "      <td>17</td>\n",
       "      <td>Binders</td>\n",
       "      <td>1523</td>\n",
       "    </tr>\n",
       "    <tr>\n",
       "      <th>Product Name</th>\n",
       "      <td>9994</td>\n",
       "      <td>1850</td>\n",
       "      <td>Staple envelope</td>\n",
       "      <td>48</td>\n",
       "    </tr>\n",
       "  </tbody>\n",
       "</table>\n",
       "</div>"
      ],
      "text/plain": [
       "              count unique              top  freq\n",
       "Order ID       9994   5009   CA-2017-100111    14\n",
       "Order Date     9994   1237         9/5/2016    38\n",
       "Ship Date      9994   1334       12/16/2015    35\n",
       "Ship Mode      9994      4   Standard Class  5968\n",
       "Customer ID    9994    793         WB-21850    37\n",
       "Customer Name  9994    793    William Brown    37\n",
       "Segment        9994      3         Consumer  5191\n",
       "Country        9994      1    United States  9994\n",
       "City           9994    531    New York City   915\n",
       "State          9994     49       California  2001\n",
       "Region         9994      4             West  3203\n",
       "Product ID     9994   1862  OFF-PA-10001970    19\n",
       "Category       9994      3  Office Supplies  6026\n",
       "Sub-Category   9994     17          Binders  1523\n",
       "Product Name   9994   1850  Staple envelope    48"
      ]
     },
     "execution_count": 62,
     "metadata": {},
     "output_type": "execute_result"
    }
   ],
   "source": [
    "## Transpose the table and only for columns with datatype object\n",
    "df.describe(include=[object]).T"
   ]
  },
  {
   "cell_type": "markdown",
   "id": "00b246dd",
   "metadata": {},
   "source": [
    "**This part tells Pandas to:**\n",
    "\n",
    " Generate summary statistics (like count, unique, top, freq)\n",
    " \n",
    " Only for columns with data type object (usually used for strings like names, categories, etc.)."
   ]
  },
  {
   "cell_type": "code",
   "execution_count": 63,
   "id": "329bea7a",
   "metadata": {},
   "outputs": [
    {
     "data": {
      "text/plain": [
       "Index(['Row ID', 'Order ID', 'Order Date', 'Ship Date', 'Ship Mode',\n",
       "       'Customer ID', 'Customer Name', 'Segment', 'Country', 'City', 'State',\n",
       "       'Postal Code', 'Region', 'Product ID', 'Category', 'Sub-Category',\n",
       "       'Product Name', 'Sales', 'Quantity', 'Discount', 'Profit'],\n",
       "      dtype='object')"
      ]
     },
     "execution_count": 63,
     "metadata": {},
     "output_type": "execute_result"
    }
   ],
   "source": [
    "##Return the columns \n",
    "df.columns"
   ]
  },
  {
   "cell_type": "markdown",
   "id": "0ded6651",
   "metadata": {},
   "source": [
    "## **Data cleaning**"
   ]
  },
  {
   "cell_type": "code",
   "execution_count": 64,
   "id": "807c0b32",
   "metadata": {},
   "outputs": [
    {
     "data": {
      "text/plain": [
       "Row ID           0\n",
       "Order ID         0\n",
       "Order Date       0\n",
       "Ship Date        0\n",
       "Ship Mode        0\n",
       "Customer ID      0\n",
       "Customer Name    0\n",
       "Segment          0\n",
       "Country          0\n",
       "City             0\n",
       "State            0\n",
       "Postal Code      0\n",
       "Region           0\n",
       "Product ID       0\n",
       "Category         0\n",
       "Sub-Category     0\n",
       "Product Name     0\n",
       "Sales            0\n",
       "Quantity         0\n",
       "Discount         0\n",
       "Profit           0\n",
       "dtype: int64"
      ]
     },
     "execution_count": 64,
     "metadata": {},
     "output_type": "execute_result"
    }
   ],
   "source": [
    "##Check for missing values\n",
    "df.isnull().sum()"
   ]
  },
  {
   "cell_type": "markdown",
   "id": "c5862e54",
   "metadata": {},
   "source": [
    "**Purpose:** Checks for missing (null) values column-wise\n",
    "\n",
    "**Why use:** Identify which columns need cleaning"
   ]
  },
  {
   "cell_type": "code",
   "execution_count": 65,
   "id": "d3c5e418",
   "metadata": {},
   "outputs": [
    {
     "data": {
      "text/plain": [
       "np.int64(0)"
      ]
     },
     "execution_count": 65,
     "metadata": {},
     "output_type": "execute_result"
    }
   ],
   "source": [
    "##Check for duplicates\n",
    "df.duplicated().sum()"
   ]
  },
  {
   "cell_type": "markdown",
   "id": "372b2bc2",
   "metadata": {},
   "source": [
    "**Purpose:** Tells how many duplicate rows exist\n",
    "\n",
    "**Why use:** Helps in cleaning duplicate data"
   ]
  },
  {
   "cell_type": "markdown",
   "id": "0c569838",
   "metadata": {},
   "source": [
    "## **Data Reduction**\n",
    "\n",
    "This dataset contains information such as Row ID, Postal Code, Product Name, and detailed order tracking that may not be needed for high-level analysis. These columns:\n",
    "\n",
    "-Do not provide useful insights\n",
    "\n",
    "-Increase dataset size unnecessarily\n",
    "\n",
    "-May distract from meaningful analysis"
   ]
  },
  {
   "cell_type": "code",
   "execution_count": 66,
   "id": "41d2f052",
   "metadata": {},
   "outputs": [],
   "source": [
    "df.drop(['Row ID', 'Postal Code', 'Product ID', 'Customer ID'], axis=1, inplace=True)\n"
   ]
  },
  {
   "cell_type": "code",
   "execution_count": 67,
   "id": "99971aea",
   "metadata": {},
   "outputs": [
    {
     "data": {
      "text/plain": [
       "Index(['Order ID', 'Order Date', 'Ship Date', 'Ship Mode', 'Customer Name',\n",
       "       'Segment', 'Country', 'City', 'State', 'Region', 'Category',\n",
       "       'Sub-Category', 'Product Name', 'Sales', 'Quantity', 'Discount',\n",
       "       'Profit'],\n",
       "      dtype='object')"
      ]
     },
     "execution_count": 67,
     "metadata": {},
     "output_type": "execute_result"
    }
   ],
   "source": [
    "df.columns"
   ]
  },
  {
   "cell_type": "code",
   "execution_count": 68,
   "id": "2021f25b",
   "metadata": {},
   "outputs": [],
   "source": [
    "#convert dates to datetime\n",
    "df['Order Date'] = pd.to_datetime(df['Order Date'])\n",
    "df['Ship Date'] = pd.to_datetime(df['Ship Date'])\n"
   ]
  },
  {
   "cell_type": "markdown",
   "id": "9344bab7",
   "metadata": {},
   "source": [
    "Converts object (string) type date columns to datetime64[ns]\n",
    "\n",
    "- Required for time-based operations like:\n",
    "\n",
    "- Extracting year/month/day\n",
    "\n",
    "- Calculating delivery duration\n",
    "\n",
    "- Filtering by date\n",
    "\n",
    "- Time-series plots"
   ]
  },
  {
   "cell_type": "code",
   "execution_count": 69,
   "id": "f4f99056",
   "metadata": {},
   "outputs": [
    {
     "data": {
      "text/plain": [
       "Order Date    datetime64[ns]\n",
       "Ship Date     datetime64[ns]\n",
       "dtype: object"
      ]
     },
     "execution_count": 69,
     "metadata": {},
     "output_type": "execute_result"
    }
   ],
   "source": [
    "df.dtypes[['Order Date', 'Ship Date']]"
   ]
  },
  {
   "cell_type": "code",
   "execution_count": 70,
   "id": "e922a4e1",
   "metadata": {},
   "outputs": [
    {
     "data": {
      "text/plain": [
       "Country             1\n",
       "Segment             3\n",
       "Category            3\n",
       "Ship Mode           4\n",
       "Region              4\n",
       "Discount           12\n",
       "Quantity           14\n",
       "Sub-Category       17\n",
       "State              49\n",
       "City              531\n",
       "Customer Name     793\n",
       "Order Date       1237\n",
       "Ship Date        1334\n",
       "Product Name     1850\n",
       "Order ID         5009\n",
       "Sales            5825\n",
       "Profit           7287\n",
       "dtype: int64"
      ]
     },
     "execution_count": 70,
     "metadata": {},
     "output_type": "execute_result"
    }
   ],
   "source": [
    "##Check for Columns with Low Variance\n",
    "\n",
    "df.nunique().sort_values()"
   ]
  },
  {
   "cell_type": "code",
   "execution_count": 71,
   "id": "27b154b7",
   "metadata": {},
   "outputs": [],
   "source": [
    "##choose to drop Country because it has the same value for all rows.\n",
    "df.drop(['Country'], axis=1, inplace=True)"
   ]
  },
  {
   "cell_type": "code",
   "execution_count": 72,
   "id": "ed29dd99",
   "metadata": {},
   "outputs": [
    {
     "data": {
      "text/plain": [
       "(9994, 16)"
      ]
     },
     "execution_count": 72,
     "metadata": {},
     "output_type": "execute_result"
    }
   ],
   "source": [
    "df.shape"
   ]
  },
  {
   "cell_type": "code",
   "execution_count": 73,
   "id": "2dfe4f40",
   "metadata": {},
   "outputs": [
    {
     "data": {
      "text/plain": [
       "Index(['Order ID', 'Order Date', 'Ship Date', 'Ship Mode', 'Customer Name',\n",
       "       'Segment', 'City', 'State', 'Region', 'Category', 'Sub-Category',\n",
       "       'Product Name', 'Sales', 'Quantity', 'Discount', 'Profit'],\n",
       "      dtype='object')"
      ]
     },
     "execution_count": 73,
     "metadata": {},
     "output_type": "execute_result"
    }
   ],
   "source": [
    "df.columns\n"
   ]
  },
  {
   "cell_type": "markdown",
   "id": "ad40bb27",
   "metadata": {},
   "source": [
    "## **Feature Engineering**\n",
    "The process of creating new features or modifying existing ones to improve the performance and interpretability of the analysis. In EDA, this step helps reveal deeper patterns in the dataset."
   ]
  },
  {
   "cell_type": "markdown",
   "id": "4cb31fed",
   "metadata": {},
   "source": [
    "**Create Shipping Duration Feature**\n",
    "\n",
    "To measure how long it took for a product to be delivered\n",
    "This can help evaluate the efficiency of different shipping modes or regions."
   ]
  },
  {
   "cell_type": "code",
   "execution_count": 74,
   "id": "80d658ca",
   "metadata": {},
   "outputs": [],
   "source": [
    "df['Shipping_Days'] = (df['Ship Date'] - df['Order Date']).dt.days\n"
   ]
  },
  {
   "cell_type": "code",
   "execution_count": 75,
   "id": "06e3c3b3",
   "metadata": {},
   "outputs": [
    {
     "data": {
      "text/html": [
       "<div>\n",
       "<style scoped>\n",
       "    .dataframe tbody tr th:only-of-type {\n",
       "        vertical-align: middle;\n",
       "    }\n",
       "\n",
       "    .dataframe tbody tr th {\n",
       "        vertical-align: top;\n",
       "    }\n",
       "\n",
       "    .dataframe thead th {\n",
       "        text-align: right;\n",
       "    }\n",
       "</style>\n",
       "<table border=\"1\" class=\"dataframe\">\n",
       "  <thead>\n",
       "    <tr style=\"text-align: right;\">\n",
       "      <th></th>\n",
       "      <th>Order Date</th>\n",
       "      <th>Ship Date</th>\n",
       "      <th>Shipping_Days</th>\n",
       "    </tr>\n",
       "  </thead>\n",
       "  <tbody>\n",
       "    <tr>\n",
       "      <th>0</th>\n",
       "      <td>2016-11-08</td>\n",
       "      <td>2016-11-11</td>\n",
       "      <td>3</td>\n",
       "    </tr>\n",
       "    <tr>\n",
       "      <th>1</th>\n",
       "      <td>2016-11-08</td>\n",
       "      <td>2016-11-11</td>\n",
       "      <td>3</td>\n",
       "    </tr>\n",
       "    <tr>\n",
       "      <th>2</th>\n",
       "      <td>2016-06-12</td>\n",
       "      <td>2016-06-16</td>\n",
       "      <td>4</td>\n",
       "    </tr>\n",
       "    <tr>\n",
       "      <th>3</th>\n",
       "      <td>2015-10-11</td>\n",
       "      <td>2015-10-18</td>\n",
       "      <td>7</td>\n",
       "    </tr>\n",
       "    <tr>\n",
       "      <th>4</th>\n",
       "      <td>2015-10-11</td>\n",
       "      <td>2015-10-18</td>\n",
       "      <td>7</td>\n",
       "    </tr>\n",
       "  </tbody>\n",
       "</table>\n",
       "</div>"
      ],
      "text/plain": [
       "  Order Date  Ship Date  Shipping_Days\n",
       "0 2016-11-08 2016-11-11              3\n",
       "1 2016-11-08 2016-11-11              3\n",
       "2 2016-06-12 2016-06-16              4\n",
       "3 2015-10-11 2015-10-18              7\n",
       "4 2015-10-11 2015-10-18              7"
      ]
     },
     "execution_count": 75,
     "metadata": {},
     "output_type": "execute_result"
    }
   ],
   "source": [
    "df[['Order Date', 'Ship Date', 'Shipping_Days']].head()\n"
   ]
  },
  {
   "cell_type": "markdown",
   "id": "aa6166b8",
   "metadata": {},
   "source": [
    " **Extract Date Components (Year, Month, Day)**\n",
    "\n",
    "This helps us identify time-based trends like monthly peaks in sales or seasonal losses."
   ]
  },
  {
   "cell_type": "code",
   "execution_count": 76,
   "id": "663da1d0",
   "metadata": {},
   "outputs": [],
   "source": [
    "df['Order_Year'] = df['Order Date'].dt.year\n",
    "df['Order_Month'] = df['Order Date'].dt.month\n",
    "df['Order_Day'] = df['Order Date'].dt.day\n"
   ]
  },
  {
   "cell_type": "code",
   "execution_count": 77,
   "id": "0455f30b",
   "metadata": {},
   "outputs": [
    {
     "data": {
      "text/html": [
       "<div>\n",
       "<style scoped>\n",
       "    .dataframe tbody tr th:only-of-type {\n",
       "        vertical-align: middle;\n",
       "    }\n",
       "\n",
       "    .dataframe tbody tr th {\n",
       "        vertical-align: top;\n",
       "    }\n",
       "\n",
       "    .dataframe thead th {\n",
       "        text-align: right;\n",
       "    }\n",
       "</style>\n",
       "<table border=\"1\" class=\"dataframe\">\n",
       "  <thead>\n",
       "    <tr style=\"text-align: right;\">\n",
       "      <th></th>\n",
       "      <th>Order Date</th>\n",
       "      <th>Order_Year</th>\n",
       "      <th>Order_Month</th>\n",
       "      <th>Order_Day</th>\n",
       "    </tr>\n",
       "  </thead>\n",
       "  <tbody>\n",
       "    <tr>\n",
       "      <th>0</th>\n",
       "      <td>2016-11-08</td>\n",
       "      <td>2016</td>\n",
       "      <td>11</td>\n",
       "      <td>8</td>\n",
       "    </tr>\n",
       "    <tr>\n",
       "      <th>1</th>\n",
       "      <td>2016-11-08</td>\n",
       "      <td>2016</td>\n",
       "      <td>11</td>\n",
       "      <td>8</td>\n",
       "    </tr>\n",
       "    <tr>\n",
       "      <th>2</th>\n",
       "      <td>2016-06-12</td>\n",
       "      <td>2016</td>\n",
       "      <td>6</td>\n",
       "      <td>12</td>\n",
       "    </tr>\n",
       "    <tr>\n",
       "      <th>3</th>\n",
       "      <td>2015-10-11</td>\n",
       "      <td>2015</td>\n",
       "      <td>10</td>\n",
       "      <td>11</td>\n",
       "    </tr>\n",
       "    <tr>\n",
       "      <th>4</th>\n",
       "      <td>2015-10-11</td>\n",
       "      <td>2015</td>\n",
       "      <td>10</td>\n",
       "      <td>11</td>\n",
       "    </tr>\n",
       "  </tbody>\n",
       "</table>\n",
       "</div>"
      ],
      "text/plain": [
       "  Order Date  Order_Year  Order_Month  Order_Day\n",
       "0 2016-11-08        2016           11          8\n",
       "1 2016-11-08        2016           11          8\n",
       "2 2016-06-12        2016            6         12\n",
       "3 2015-10-11        2015           10         11\n",
       "4 2015-10-11        2015           10         11"
      ]
     },
     "execution_count": 77,
     "metadata": {},
     "output_type": "execute_result"
    }
   ],
   "source": [
    "df[['Order Date', 'Order_Year', 'Order_Month', 'Order_Day']].head()\n"
   ]
  },
  {
   "cell_type": "markdown",
   "id": "5307a616",
   "metadata": {},
   "source": [
    "***Add Profit-to-Sales Ratio***\n",
    "\n",
    "This gives a normalized metric of how profitable each sale was."
   ]
  },
  {
   "cell_type": "code",
   "execution_count": 78,
   "id": "6600033c",
   "metadata": {},
   "outputs": [
    {
     "name": "stderr",
     "output_type": "stream",
     "text": [
      "C:\\Users\\Karth\\AppData\\Local\\Temp\\ipykernel_18160\\2340342437.py:2: FutureWarning: A value is trying to be set on a copy of a DataFrame or Series through chained assignment using an inplace method.\n",
      "The behavior will change in pandas 3.0. This inplace method will never work because the intermediate object on which we are setting values always behaves as a copy.\n",
      "\n",
      "For example, when doing 'df[col].method(value, inplace=True)', try using 'df.method({col: value}, inplace=True)' or df[col] = df[col].method(value) instead, to perform the operation inplace on the original object.\n",
      "\n",
      "\n",
      "  df['Profit_Sales_Ratio'].replace([np.inf, -np.inf], np.nan, inplace=True)\n",
      "C:\\Users\\Karth\\AppData\\Local\\Temp\\ipykernel_18160\\2340342437.py:3: FutureWarning: A value is trying to be set on a copy of a DataFrame or Series through chained assignment using an inplace method.\n",
      "The behavior will change in pandas 3.0. This inplace method will never work because the intermediate object on which we are setting values always behaves as a copy.\n",
      "\n",
      "For example, when doing 'df[col].method(value, inplace=True)', try using 'df.method({col: value}, inplace=True)' or df[col] = df[col].method(value) instead, to perform the operation inplace on the original object.\n",
      "\n",
      "\n",
      "  df['Profit_Sales_Ratio'].fillna(0, inplace=True)\n"
     ]
    }
   ],
   "source": [
    "df['Profit_Sales_Ratio'] = df['Profit'] / df['Sales']\n",
    "df['Profit_Sales_Ratio'].replace([np.inf, -np.inf], np.nan, inplace=True)\n",
    "df['Profit_Sales_Ratio'].fillna(0, inplace=True)\n"
   ]
  },
  {
   "cell_type": "code",
   "execution_count": 79,
   "id": "c25e5a6a",
   "metadata": {},
   "outputs": [
    {
     "data": {
      "text/html": [
       "<div>\n",
       "<style scoped>\n",
       "    .dataframe tbody tr th:only-of-type {\n",
       "        vertical-align: middle;\n",
       "    }\n",
       "\n",
       "    .dataframe tbody tr th {\n",
       "        vertical-align: top;\n",
       "    }\n",
       "\n",
       "    .dataframe thead th {\n",
       "        text-align: right;\n",
       "    }\n",
       "</style>\n",
       "<table border=\"1\" class=\"dataframe\">\n",
       "  <thead>\n",
       "    <tr style=\"text-align: right;\">\n",
       "      <th></th>\n",
       "      <th>Sales</th>\n",
       "      <th>Profit</th>\n",
       "      <th>Profit_Sales_Ratio</th>\n",
       "    </tr>\n",
       "  </thead>\n",
       "  <tbody>\n",
       "    <tr>\n",
       "      <th>0</th>\n",
       "      <td>261.9600</td>\n",
       "      <td>41.9136</td>\n",
       "      <td>0.1600</td>\n",
       "    </tr>\n",
       "    <tr>\n",
       "      <th>1</th>\n",
       "      <td>731.9400</td>\n",
       "      <td>219.5820</td>\n",
       "      <td>0.3000</td>\n",
       "    </tr>\n",
       "    <tr>\n",
       "      <th>2</th>\n",
       "      <td>14.6200</td>\n",
       "      <td>6.8714</td>\n",
       "      <td>0.4700</td>\n",
       "    </tr>\n",
       "    <tr>\n",
       "      <th>3</th>\n",
       "      <td>957.5775</td>\n",
       "      <td>-383.0310</td>\n",
       "      <td>-0.4000</td>\n",
       "    </tr>\n",
       "    <tr>\n",
       "      <th>4</th>\n",
       "      <td>22.3680</td>\n",
       "      <td>2.5164</td>\n",
       "      <td>0.1125</td>\n",
       "    </tr>\n",
       "  </tbody>\n",
       "</table>\n",
       "</div>"
      ],
      "text/plain": [
       "      Sales    Profit  Profit_Sales_Ratio\n",
       "0  261.9600   41.9136              0.1600\n",
       "1  731.9400  219.5820              0.3000\n",
       "2   14.6200    6.8714              0.4700\n",
       "3  957.5775 -383.0310             -0.4000\n",
       "4   22.3680    2.5164              0.1125"
      ]
     },
     "execution_count": 79,
     "metadata": {},
     "output_type": "execute_result"
    }
   ],
   "source": [
    "df[['Sales', 'Profit', 'Profit_Sales_Ratio']].head()\n"
   ]
  },
  {
   "cell_type": "markdown",
   "id": "536f21c0",
   "metadata": {},
   "source": [
    "***Categorize Profitability***\n",
    "\n",
    "Creates labels (e.g., High Profit, Loss) that help us segment the data."
   ]
  },
  {
   "cell_type": "code",
   "execution_count": 80,
   "id": "09842d73",
   "metadata": {},
   "outputs": [],
   "source": [
    "def categorize_profit(x):\n",
    "    if x > 50:\n",
    "        return 'High Profit'\n",
    "    elif x < 0:\n",
    "        return 'Loss'\n",
    "    else:\n",
    "        return 'Moderate Profit'\n",
    "\n",
    "df['Profit_Category'] = df['Profit'].apply(categorize_profit)\n"
   ]
  },
  {
   "cell_type": "code",
   "execution_count": 81,
   "id": "4f213cf3",
   "metadata": {},
   "outputs": [
    {
     "data": {
      "text/html": [
       "<div>\n",
       "<style scoped>\n",
       "    .dataframe tbody tr th:only-of-type {\n",
       "        vertical-align: middle;\n",
       "    }\n",
       "\n",
       "    .dataframe tbody tr th {\n",
       "        vertical-align: top;\n",
       "    }\n",
       "\n",
       "    .dataframe thead th {\n",
       "        text-align: right;\n",
       "    }\n",
       "</style>\n",
       "<table border=\"1\" class=\"dataframe\">\n",
       "  <thead>\n",
       "    <tr style=\"text-align: right;\">\n",
       "      <th></th>\n",
       "      <th>Profit</th>\n",
       "      <th>Profit_Category</th>\n",
       "    </tr>\n",
       "  </thead>\n",
       "  <tbody>\n",
       "    <tr>\n",
       "      <th>0</th>\n",
       "      <td>41.9136</td>\n",
       "      <td>Moderate Profit</td>\n",
       "    </tr>\n",
       "    <tr>\n",
       "      <th>1</th>\n",
       "      <td>219.5820</td>\n",
       "      <td>High Profit</td>\n",
       "    </tr>\n",
       "    <tr>\n",
       "      <th>2</th>\n",
       "      <td>6.8714</td>\n",
       "      <td>Moderate Profit</td>\n",
       "    </tr>\n",
       "    <tr>\n",
       "      <th>3</th>\n",
       "      <td>-383.0310</td>\n",
       "      <td>Loss</td>\n",
       "    </tr>\n",
       "    <tr>\n",
       "      <th>4</th>\n",
       "      <td>2.5164</td>\n",
       "      <td>Moderate Profit</td>\n",
       "    </tr>\n",
       "  </tbody>\n",
       "</table>\n",
       "</div>"
      ],
      "text/plain": [
       "     Profit  Profit_Category\n",
       "0   41.9136  Moderate Profit\n",
       "1  219.5820      High Profit\n",
       "2    6.8714  Moderate Profit\n",
       "3 -383.0310             Loss\n",
       "4    2.5164  Moderate Profit"
      ]
     },
     "execution_count": 81,
     "metadata": {},
     "output_type": "execute_result"
    }
   ],
   "source": [
    "df[['Profit', 'Profit_Category']].head()\n"
   ]
  },
  {
   "cell_type": "code",
   "execution_count": 82,
   "id": "ad55acdd",
   "metadata": {},
   "outputs": [
    {
     "data": {
      "text/html": [
       "<div>\n",
       "<style scoped>\n",
       "    .dataframe tbody tr th:only-of-type {\n",
       "        vertical-align: middle;\n",
       "    }\n",
       "\n",
       "    .dataframe tbody tr th {\n",
       "        vertical-align: top;\n",
       "    }\n",
       "\n",
       "    .dataframe thead th {\n",
       "        text-align: right;\n",
       "    }\n",
       "</style>\n",
       "<table border=\"1\" class=\"dataframe\">\n",
       "  <thead>\n",
       "    <tr style=\"text-align: right;\">\n",
       "      <th></th>\n",
       "      <th>Order ID</th>\n",
       "      <th>Order Date</th>\n",
       "      <th>Ship Date</th>\n",
       "      <th>Ship Mode</th>\n",
       "      <th>Customer Name</th>\n",
       "      <th>Segment</th>\n",
       "      <th>City</th>\n",
       "      <th>State</th>\n",
       "      <th>Region</th>\n",
       "      <th>Category</th>\n",
       "      <th>...</th>\n",
       "      <th>Sales</th>\n",
       "      <th>Quantity</th>\n",
       "      <th>Discount</th>\n",
       "      <th>Profit</th>\n",
       "      <th>Shipping_Days</th>\n",
       "      <th>Order_Year</th>\n",
       "      <th>Order_Month</th>\n",
       "      <th>Order_Day</th>\n",
       "      <th>Profit_Sales_Ratio</th>\n",
       "      <th>Profit_Category</th>\n",
       "    </tr>\n",
       "  </thead>\n",
       "  <tbody>\n",
       "    <tr>\n",
       "      <th>0</th>\n",
       "      <td>CA-2016-152156</td>\n",
       "      <td>2016-11-08</td>\n",
       "      <td>2016-11-11</td>\n",
       "      <td>Second Class</td>\n",
       "      <td>Claire Gute</td>\n",
       "      <td>Consumer</td>\n",
       "      <td>Henderson</td>\n",
       "      <td>Kentucky</td>\n",
       "      <td>South</td>\n",
       "      <td>Furniture</td>\n",
       "      <td>...</td>\n",
       "      <td>261.9600</td>\n",
       "      <td>2</td>\n",
       "      <td>0.00</td>\n",
       "      <td>41.9136</td>\n",
       "      <td>3</td>\n",
       "      <td>2016</td>\n",
       "      <td>11</td>\n",
       "      <td>8</td>\n",
       "      <td>0.1600</td>\n",
       "      <td>Moderate Profit</td>\n",
       "    </tr>\n",
       "    <tr>\n",
       "      <th>1</th>\n",
       "      <td>CA-2016-152156</td>\n",
       "      <td>2016-11-08</td>\n",
       "      <td>2016-11-11</td>\n",
       "      <td>Second Class</td>\n",
       "      <td>Claire Gute</td>\n",
       "      <td>Consumer</td>\n",
       "      <td>Henderson</td>\n",
       "      <td>Kentucky</td>\n",
       "      <td>South</td>\n",
       "      <td>Furniture</td>\n",
       "      <td>...</td>\n",
       "      <td>731.9400</td>\n",
       "      <td>3</td>\n",
       "      <td>0.00</td>\n",
       "      <td>219.5820</td>\n",
       "      <td>3</td>\n",
       "      <td>2016</td>\n",
       "      <td>11</td>\n",
       "      <td>8</td>\n",
       "      <td>0.3000</td>\n",
       "      <td>High Profit</td>\n",
       "    </tr>\n",
       "    <tr>\n",
       "      <th>2</th>\n",
       "      <td>CA-2016-138688</td>\n",
       "      <td>2016-06-12</td>\n",
       "      <td>2016-06-16</td>\n",
       "      <td>Second Class</td>\n",
       "      <td>Darrin Van Huff</td>\n",
       "      <td>Corporate</td>\n",
       "      <td>Los Angeles</td>\n",
       "      <td>California</td>\n",
       "      <td>West</td>\n",
       "      <td>Office Supplies</td>\n",
       "      <td>...</td>\n",
       "      <td>14.6200</td>\n",
       "      <td>2</td>\n",
       "      <td>0.00</td>\n",
       "      <td>6.8714</td>\n",
       "      <td>4</td>\n",
       "      <td>2016</td>\n",
       "      <td>6</td>\n",
       "      <td>12</td>\n",
       "      <td>0.4700</td>\n",
       "      <td>Moderate Profit</td>\n",
       "    </tr>\n",
       "    <tr>\n",
       "      <th>3</th>\n",
       "      <td>US-2015-108966</td>\n",
       "      <td>2015-10-11</td>\n",
       "      <td>2015-10-18</td>\n",
       "      <td>Standard Class</td>\n",
       "      <td>Sean O'Donnell</td>\n",
       "      <td>Consumer</td>\n",
       "      <td>Fort Lauderdale</td>\n",
       "      <td>Florida</td>\n",
       "      <td>South</td>\n",
       "      <td>Furniture</td>\n",
       "      <td>...</td>\n",
       "      <td>957.5775</td>\n",
       "      <td>5</td>\n",
       "      <td>0.45</td>\n",
       "      <td>-383.0310</td>\n",
       "      <td>7</td>\n",
       "      <td>2015</td>\n",
       "      <td>10</td>\n",
       "      <td>11</td>\n",
       "      <td>-0.4000</td>\n",
       "      <td>Loss</td>\n",
       "    </tr>\n",
       "    <tr>\n",
       "      <th>4</th>\n",
       "      <td>US-2015-108966</td>\n",
       "      <td>2015-10-11</td>\n",
       "      <td>2015-10-18</td>\n",
       "      <td>Standard Class</td>\n",
       "      <td>Sean O'Donnell</td>\n",
       "      <td>Consumer</td>\n",
       "      <td>Fort Lauderdale</td>\n",
       "      <td>Florida</td>\n",
       "      <td>South</td>\n",
       "      <td>Office Supplies</td>\n",
       "      <td>...</td>\n",
       "      <td>22.3680</td>\n",
       "      <td>2</td>\n",
       "      <td>0.20</td>\n",
       "      <td>2.5164</td>\n",
       "      <td>7</td>\n",
       "      <td>2015</td>\n",
       "      <td>10</td>\n",
       "      <td>11</td>\n",
       "      <td>0.1125</td>\n",
       "      <td>Moderate Profit</td>\n",
       "    </tr>\n",
       "    <tr>\n",
       "      <th>...</th>\n",
       "      <td>...</td>\n",
       "      <td>...</td>\n",
       "      <td>...</td>\n",
       "      <td>...</td>\n",
       "      <td>...</td>\n",
       "      <td>...</td>\n",
       "      <td>...</td>\n",
       "      <td>...</td>\n",
       "      <td>...</td>\n",
       "      <td>...</td>\n",
       "      <td>...</td>\n",
       "      <td>...</td>\n",
       "      <td>...</td>\n",
       "      <td>...</td>\n",
       "      <td>...</td>\n",
       "      <td>...</td>\n",
       "      <td>...</td>\n",
       "      <td>...</td>\n",
       "      <td>...</td>\n",
       "      <td>...</td>\n",
       "      <td>...</td>\n",
       "    </tr>\n",
       "    <tr>\n",
       "      <th>9989</th>\n",
       "      <td>CA-2014-110422</td>\n",
       "      <td>2014-01-21</td>\n",
       "      <td>2014-01-23</td>\n",
       "      <td>Second Class</td>\n",
       "      <td>Tom Boeckenhauer</td>\n",
       "      <td>Consumer</td>\n",
       "      <td>Miami</td>\n",
       "      <td>Florida</td>\n",
       "      <td>South</td>\n",
       "      <td>Furniture</td>\n",
       "      <td>...</td>\n",
       "      <td>25.2480</td>\n",
       "      <td>3</td>\n",
       "      <td>0.20</td>\n",
       "      <td>4.1028</td>\n",
       "      <td>2</td>\n",
       "      <td>2014</td>\n",
       "      <td>1</td>\n",
       "      <td>21</td>\n",
       "      <td>0.1625</td>\n",
       "      <td>Moderate Profit</td>\n",
       "    </tr>\n",
       "    <tr>\n",
       "      <th>9990</th>\n",
       "      <td>CA-2017-121258</td>\n",
       "      <td>2017-02-26</td>\n",
       "      <td>2017-03-03</td>\n",
       "      <td>Standard Class</td>\n",
       "      <td>Dave Brooks</td>\n",
       "      <td>Consumer</td>\n",
       "      <td>Costa Mesa</td>\n",
       "      <td>California</td>\n",
       "      <td>West</td>\n",
       "      <td>Furniture</td>\n",
       "      <td>...</td>\n",
       "      <td>91.9600</td>\n",
       "      <td>2</td>\n",
       "      <td>0.00</td>\n",
       "      <td>15.6332</td>\n",
       "      <td>5</td>\n",
       "      <td>2017</td>\n",
       "      <td>2</td>\n",
       "      <td>26</td>\n",
       "      <td>0.1700</td>\n",
       "      <td>Moderate Profit</td>\n",
       "    </tr>\n",
       "    <tr>\n",
       "      <th>9991</th>\n",
       "      <td>CA-2017-121258</td>\n",
       "      <td>2017-02-26</td>\n",
       "      <td>2017-03-03</td>\n",
       "      <td>Standard Class</td>\n",
       "      <td>Dave Brooks</td>\n",
       "      <td>Consumer</td>\n",
       "      <td>Costa Mesa</td>\n",
       "      <td>California</td>\n",
       "      <td>West</td>\n",
       "      <td>Technology</td>\n",
       "      <td>...</td>\n",
       "      <td>258.5760</td>\n",
       "      <td>2</td>\n",
       "      <td>0.20</td>\n",
       "      <td>19.3932</td>\n",
       "      <td>5</td>\n",
       "      <td>2017</td>\n",
       "      <td>2</td>\n",
       "      <td>26</td>\n",
       "      <td>0.0750</td>\n",
       "      <td>Moderate Profit</td>\n",
       "    </tr>\n",
       "    <tr>\n",
       "      <th>9992</th>\n",
       "      <td>CA-2017-121258</td>\n",
       "      <td>2017-02-26</td>\n",
       "      <td>2017-03-03</td>\n",
       "      <td>Standard Class</td>\n",
       "      <td>Dave Brooks</td>\n",
       "      <td>Consumer</td>\n",
       "      <td>Costa Mesa</td>\n",
       "      <td>California</td>\n",
       "      <td>West</td>\n",
       "      <td>Office Supplies</td>\n",
       "      <td>...</td>\n",
       "      <td>29.6000</td>\n",
       "      <td>4</td>\n",
       "      <td>0.00</td>\n",
       "      <td>13.3200</td>\n",
       "      <td>5</td>\n",
       "      <td>2017</td>\n",
       "      <td>2</td>\n",
       "      <td>26</td>\n",
       "      <td>0.4500</td>\n",
       "      <td>Moderate Profit</td>\n",
       "    </tr>\n",
       "    <tr>\n",
       "      <th>9993</th>\n",
       "      <td>CA-2017-119914</td>\n",
       "      <td>2017-05-04</td>\n",
       "      <td>2017-05-09</td>\n",
       "      <td>Second Class</td>\n",
       "      <td>Chris Cortes</td>\n",
       "      <td>Consumer</td>\n",
       "      <td>Westminster</td>\n",
       "      <td>California</td>\n",
       "      <td>West</td>\n",
       "      <td>Office Supplies</td>\n",
       "      <td>...</td>\n",
       "      <td>243.1600</td>\n",
       "      <td>2</td>\n",
       "      <td>0.00</td>\n",
       "      <td>72.9480</td>\n",
       "      <td>5</td>\n",
       "      <td>2017</td>\n",
       "      <td>5</td>\n",
       "      <td>4</td>\n",
       "      <td>0.3000</td>\n",
       "      <td>High Profit</td>\n",
       "    </tr>\n",
       "  </tbody>\n",
       "</table>\n",
       "<p>9994 rows × 22 columns</p>\n",
       "</div>"
      ],
      "text/plain": [
       "            Order ID Order Date  Ship Date       Ship Mode     Customer Name  \\\n",
       "0     CA-2016-152156 2016-11-08 2016-11-11    Second Class       Claire Gute   \n",
       "1     CA-2016-152156 2016-11-08 2016-11-11    Second Class       Claire Gute   \n",
       "2     CA-2016-138688 2016-06-12 2016-06-16    Second Class   Darrin Van Huff   \n",
       "3     US-2015-108966 2015-10-11 2015-10-18  Standard Class    Sean O'Donnell   \n",
       "4     US-2015-108966 2015-10-11 2015-10-18  Standard Class    Sean O'Donnell   \n",
       "...              ...        ...        ...             ...               ...   \n",
       "9989  CA-2014-110422 2014-01-21 2014-01-23    Second Class  Tom Boeckenhauer   \n",
       "9990  CA-2017-121258 2017-02-26 2017-03-03  Standard Class       Dave Brooks   \n",
       "9991  CA-2017-121258 2017-02-26 2017-03-03  Standard Class       Dave Brooks   \n",
       "9992  CA-2017-121258 2017-02-26 2017-03-03  Standard Class       Dave Brooks   \n",
       "9993  CA-2017-119914 2017-05-04 2017-05-09    Second Class      Chris Cortes   \n",
       "\n",
       "        Segment             City       State Region         Category  ...  \\\n",
       "0      Consumer        Henderson    Kentucky  South        Furniture  ...   \n",
       "1      Consumer        Henderson    Kentucky  South        Furniture  ...   \n",
       "2     Corporate      Los Angeles  California   West  Office Supplies  ...   \n",
       "3      Consumer  Fort Lauderdale     Florida  South        Furniture  ...   \n",
       "4      Consumer  Fort Lauderdale     Florida  South  Office Supplies  ...   \n",
       "...         ...              ...         ...    ...              ...  ...   \n",
       "9989   Consumer            Miami     Florida  South        Furniture  ...   \n",
       "9990   Consumer       Costa Mesa  California   West        Furniture  ...   \n",
       "9991   Consumer       Costa Mesa  California   West       Technology  ...   \n",
       "9992   Consumer       Costa Mesa  California   West  Office Supplies  ...   \n",
       "9993   Consumer      Westminster  California   West  Office Supplies  ...   \n",
       "\n",
       "         Sales Quantity  Discount    Profit  Shipping_Days  Order_Year  \\\n",
       "0     261.9600        2      0.00   41.9136              3        2016   \n",
       "1     731.9400        3      0.00  219.5820              3        2016   \n",
       "2      14.6200        2      0.00    6.8714              4        2016   \n",
       "3     957.5775        5      0.45 -383.0310              7        2015   \n",
       "4      22.3680        2      0.20    2.5164              7        2015   \n",
       "...        ...      ...       ...       ...            ...         ...   \n",
       "9989   25.2480        3      0.20    4.1028              2        2014   \n",
       "9990   91.9600        2      0.00   15.6332              5        2017   \n",
       "9991  258.5760        2      0.20   19.3932              5        2017   \n",
       "9992   29.6000        4      0.00   13.3200              5        2017   \n",
       "9993  243.1600        2      0.00   72.9480              5        2017   \n",
       "\n",
       "      Order_Month  Order_Day  Profit_Sales_Ratio  Profit_Category  \n",
       "0              11          8              0.1600  Moderate Profit  \n",
       "1              11          8              0.3000      High Profit  \n",
       "2               6         12              0.4700  Moderate Profit  \n",
       "3              10         11             -0.4000             Loss  \n",
       "4              10         11              0.1125  Moderate Profit  \n",
       "...           ...        ...                 ...              ...  \n",
       "9989            1         21              0.1625  Moderate Profit  \n",
       "9990            2         26              0.1700  Moderate Profit  \n",
       "9991            2         26              0.0750  Moderate Profit  \n",
       "9992            2         26              0.4500  Moderate Profit  \n",
       "9993            5          4              0.3000      High Profit  \n",
       "\n",
       "[9994 rows x 22 columns]"
      ]
     },
     "execution_count": 82,
     "metadata": {},
     "output_type": "execute_result"
    }
   ],
   "source": [
    "df"
   ]
  },
  {
   "cell_type": "markdown",
   "id": "26e839cc",
   "metadata": {},
   "source": [
    "**Create Revenue Grouping Buckets**\n",
    "\n",
    "Helps analyze customer or product behavior based on how much revenue they generate."
   ]
  },
  {
   "cell_type": "code",
   "execution_count": 83,
   "id": "0ee1d368",
   "metadata": {},
   "outputs": [],
   "source": [
    "df['Revenue_Bin'] = pd.qcut(df['Sales'], q=4, labels=[\"Low\", \"Medium\", \"High\", \"Very High\"])\n"
   ]
  },
  {
   "cell_type": "code",
   "execution_count": 84,
   "id": "a0b8695c",
   "metadata": {},
   "outputs": [
    {
     "data": {
      "text/html": [
       "<div>\n",
       "<style scoped>\n",
       "    .dataframe tbody tr th:only-of-type {\n",
       "        vertical-align: middle;\n",
       "    }\n",
       "\n",
       "    .dataframe tbody tr th {\n",
       "        vertical-align: top;\n",
       "    }\n",
       "\n",
       "    .dataframe thead th {\n",
       "        text-align: right;\n",
       "    }\n",
       "</style>\n",
       "<table border=\"1\" class=\"dataframe\">\n",
       "  <thead>\n",
       "    <tr style=\"text-align: right;\">\n",
       "      <th></th>\n",
       "      <th>Sales</th>\n",
       "      <th>Revenue_Bin</th>\n",
       "    </tr>\n",
       "  </thead>\n",
       "  <tbody>\n",
       "    <tr>\n",
       "      <th>0</th>\n",
       "      <td>261.9600</td>\n",
       "      <td>Very High</td>\n",
       "    </tr>\n",
       "    <tr>\n",
       "      <th>1</th>\n",
       "      <td>731.9400</td>\n",
       "      <td>Very High</td>\n",
       "    </tr>\n",
       "    <tr>\n",
       "      <th>2</th>\n",
       "      <td>14.6200</td>\n",
       "      <td>Low</td>\n",
       "    </tr>\n",
       "    <tr>\n",
       "      <th>3</th>\n",
       "      <td>957.5775</td>\n",
       "      <td>Very High</td>\n",
       "    </tr>\n",
       "    <tr>\n",
       "      <th>4</th>\n",
       "      <td>22.3680</td>\n",
       "      <td>Medium</td>\n",
       "    </tr>\n",
       "  </tbody>\n",
       "</table>\n",
       "</div>"
      ],
      "text/plain": [
       "      Sales Revenue_Bin\n",
       "0  261.9600   Very High\n",
       "1  731.9400   Very High\n",
       "2   14.6200         Low\n",
       "3  957.5775   Very High\n",
       "4   22.3680      Medium"
      ]
     },
     "execution_count": 84,
     "metadata": {},
     "output_type": "execute_result"
    }
   ],
   "source": [
    "df[['Sales', 'Revenue_Bin']].head()\n"
   ]
  },
  {
   "cell_type": "markdown",
   "id": "48fe6d4e",
   "metadata": {},
   "source": [
    "**Region-Segment Combination Feature**\n",
    "\n",
    "Sometimes interactions between two categorical variables reveal deeper business logic."
   ]
  },
  {
   "cell_type": "code",
   "execution_count": 85,
   "id": "6210eacd",
   "metadata": {},
   "outputs": [],
   "source": [
    "df['Region_Segment'] = df['Region'] + ' - ' + df['Segment']\n"
   ]
  },
  {
   "cell_type": "code",
   "execution_count": 86,
   "id": "53e741da",
   "metadata": {},
   "outputs": [
    {
     "data": {
      "text/html": [
       "<div>\n",
       "<style scoped>\n",
       "    .dataframe tbody tr th:only-of-type {\n",
       "        vertical-align: middle;\n",
       "    }\n",
       "\n",
       "    .dataframe tbody tr th {\n",
       "        vertical-align: top;\n",
       "    }\n",
       "\n",
       "    .dataframe thead th {\n",
       "        text-align: right;\n",
       "    }\n",
       "</style>\n",
       "<table border=\"1\" class=\"dataframe\">\n",
       "  <thead>\n",
       "    <tr style=\"text-align: right;\">\n",
       "      <th></th>\n",
       "      <th>Region</th>\n",
       "      <th>Segment</th>\n",
       "      <th>Region_Segment</th>\n",
       "    </tr>\n",
       "  </thead>\n",
       "  <tbody>\n",
       "    <tr>\n",
       "      <th>0</th>\n",
       "      <td>South</td>\n",
       "      <td>Consumer</td>\n",
       "      <td>South - Consumer</td>\n",
       "    </tr>\n",
       "    <tr>\n",
       "      <th>1</th>\n",
       "      <td>South</td>\n",
       "      <td>Consumer</td>\n",
       "      <td>South - Consumer</td>\n",
       "    </tr>\n",
       "    <tr>\n",
       "      <th>2</th>\n",
       "      <td>West</td>\n",
       "      <td>Corporate</td>\n",
       "      <td>West - Corporate</td>\n",
       "    </tr>\n",
       "    <tr>\n",
       "      <th>3</th>\n",
       "      <td>South</td>\n",
       "      <td>Consumer</td>\n",
       "      <td>South - Consumer</td>\n",
       "    </tr>\n",
       "    <tr>\n",
       "      <th>4</th>\n",
       "      <td>South</td>\n",
       "      <td>Consumer</td>\n",
       "      <td>South - Consumer</td>\n",
       "    </tr>\n",
       "  </tbody>\n",
       "</table>\n",
       "</div>"
      ],
      "text/plain": [
       "  Region    Segment    Region_Segment\n",
       "0  South   Consumer  South - Consumer\n",
       "1  South   Consumer  South - Consumer\n",
       "2   West  Corporate  West - Corporate\n",
       "3  South   Consumer  South - Consumer\n",
       "4  South   Consumer  South - Consumer"
      ]
     },
     "execution_count": 86,
     "metadata": {},
     "output_type": "execute_result"
    }
   ],
   "source": [
    "df[['Region', 'Segment', 'Region_Segment']].head()\n"
   ]
  },
  {
   "cell_type": "markdown",
   "id": "bfaaf66e",
   "metadata": {},
   "source": [
    "**Check for High Discounts**\n",
    "\n",
    "Flag orders with excessive discounts which could be a reason for loss."
   ]
  },
  {
   "cell_type": "code",
   "execution_count": 87,
   "id": "7c8d8832",
   "metadata": {},
   "outputs": [],
   "source": [
    "df['High_Discount'] = df['Discount'].apply(lambda x: 1 if x > 0.3 else 0)\n"
   ]
  },
  {
   "cell_type": "code",
   "execution_count": 88,
   "id": "c96b8413",
   "metadata": {},
   "outputs": [
    {
     "data": {
      "text/html": [
       "<div>\n",
       "<style scoped>\n",
       "    .dataframe tbody tr th:only-of-type {\n",
       "        vertical-align: middle;\n",
       "    }\n",
       "\n",
       "    .dataframe tbody tr th {\n",
       "        vertical-align: top;\n",
       "    }\n",
       "\n",
       "    .dataframe thead th {\n",
       "        text-align: right;\n",
       "    }\n",
       "</style>\n",
       "<table border=\"1\" class=\"dataframe\">\n",
       "  <thead>\n",
       "    <tr style=\"text-align: right;\">\n",
       "      <th></th>\n",
       "      <th>Discount</th>\n",
       "      <th>High_Discount</th>\n",
       "    </tr>\n",
       "  </thead>\n",
       "  <tbody>\n",
       "    <tr>\n",
       "      <th>0</th>\n",
       "      <td>0.00</td>\n",
       "      <td>0</td>\n",
       "    </tr>\n",
       "    <tr>\n",
       "      <th>1</th>\n",
       "      <td>0.00</td>\n",
       "      <td>0</td>\n",
       "    </tr>\n",
       "    <tr>\n",
       "      <th>2</th>\n",
       "      <td>0.00</td>\n",
       "      <td>0</td>\n",
       "    </tr>\n",
       "    <tr>\n",
       "      <th>3</th>\n",
       "      <td>0.45</td>\n",
       "      <td>1</td>\n",
       "    </tr>\n",
       "    <tr>\n",
       "      <th>4</th>\n",
       "      <td>0.20</td>\n",
       "      <td>0</td>\n",
       "    </tr>\n",
       "  </tbody>\n",
       "</table>\n",
       "</div>"
      ],
      "text/plain": [
       "   Discount  High_Discount\n",
       "0      0.00              0\n",
       "1      0.00              0\n",
       "2      0.00              0\n",
       "3      0.45              1\n",
       "4      0.20              0"
      ]
     },
     "execution_count": 88,
     "metadata": {},
     "output_type": "execute_result"
    }
   ],
   "source": [
    "df[['Discount', 'High_Discount']].head()\n"
   ]
  },
  {
   "cell_type": "markdown",
   "id": "1a7a45db",
   "metadata": {},
   "source": [
    "**New Features**"
   ]
  },
  {
   "cell_type": "code",
   "execution_count": 89,
   "id": "ff9d88d3",
   "metadata": {},
   "outputs": [
    {
     "data": {
      "text/html": [
       "<div>\n",
       "<style scoped>\n",
       "    .dataframe tbody tr th:only-of-type {\n",
       "        vertical-align: middle;\n",
       "    }\n",
       "\n",
       "    .dataframe tbody tr th {\n",
       "        vertical-align: top;\n",
       "    }\n",
       "\n",
       "    .dataframe thead th {\n",
       "        text-align: right;\n",
       "    }\n",
       "</style>\n",
       "<table border=\"1\" class=\"dataframe\">\n",
       "  <thead>\n",
       "    <tr style=\"text-align: right;\">\n",
       "      <th></th>\n",
       "      <th>Shipping_Days</th>\n",
       "      <th>Order_Year</th>\n",
       "      <th>Profit_Sales_Ratio</th>\n",
       "      <th>Profit_Category</th>\n",
       "      <th>Revenue_Bin</th>\n",
       "      <th>Region_Segment</th>\n",
       "      <th>High_Discount</th>\n",
       "    </tr>\n",
       "  </thead>\n",
       "  <tbody>\n",
       "    <tr>\n",
       "      <th>0</th>\n",
       "      <td>3</td>\n",
       "      <td>2016</td>\n",
       "      <td>0.1600</td>\n",
       "      <td>Moderate Profit</td>\n",
       "      <td>Very High</td>\n",
       "      <td>South - Consumer</td>\n",
       "      <td>0</td>\n",
       "    </tr>\n",
       "    <tr>\n",
       "      <th>1</th>\n",
       "      <td>3</td>\n",
       "      <td>2016</td>\n",
       "      <td>0.3000</td>\n",
       "      <td>High Profit</td>\n",
       "      <td>Very High</td>\n",
       "      <td>South - Consumer</td>\n",
       "      <td>0</td>\n",
       "    </tr>\n",
       "    <tr>\n",
       "      <th>2</th>\n",
       "      <td>4</td>\n",
       "      <td>2016</td>\n",
       "      <td>0.4700</td>\n",
       "      <td>Moderate Profit</td>\n",
       "      <td>Low</td>\n",
       "      <td>West - Corporate</td>\n",
       "      <td>0</td>\n",
       "    </tr>\n",
       "    <tr>\n",
       "      <th>3</th>\n",
       "      <td>7</td>\n",
       "      <td>2015</td>\n",
       "      <td>-0.4000</td>\n",
       "      <td>Loss</td>\n",
       "      <td>Very High</td>\n",
       "      <td>South - Consumer</td>\n",
       "      <td>1</td>\n",
       "    </tr>\n",
       "    <tr>\n",
       "      <th>4</th>\n",
       "      <td>7</td>\n",
       "      <td>2015</td>\n",
       "      <td>0.1125</td>\n",
       "      <td>Moderate Profit</td>\n",
       "      <td>Medium</td>\n",
       "      <td>South - Consumer</td>\n",
       "      <td>0</td>\n",
       "    </tr>\n",
       "  </tbody>\n",
       "</table>\n",
       "</div>"
      ],
      "text/plain": [
       "   Shipping_Days  Order_Year  Profit_Sales_Ratio  Profit_Category Revenue_Bin  \\\n",
       "0              3        2016              0.1600  Moderate Profit   Very High   \n",
       "1              3        2016              0.3000      High Profit   Very High   \n",
       "2              4        2016              0.4700  Moderate Profit         Low   \n",
       "3              7        2015             -0.4000             Loss   Very High   \n",
       "4              7        2015              0.1125  Moderate Profit      Medium   \n",
       "\n",
       "     Region_Segment  High_Discount  \n",
       "0  South - Consumer              0  \n",
       "1  South - Consumer              0  \n",
       "2  West - Corporate              0  \n",
       "3  South - Consumer              1  \n",
       "4  South - Consumer              0  "
      ]
     },
     "execution_count": 89,
     "metadata": {},
     "output_type": "execute_result"
    }
   ],
   "source": [
    "df[['Shipping_Days', 'Order_Year', 'Profit_Sales_Ratio', 'Profit_Category', \n",
    "    'Revenue_Bin', 'Region_Segment', 'High_Discount']].head()\n"
   ]
  },
  {
   "cell_type": "code",
   "execution_count": 90,
   "id": "b1571ef0",
   "metadata": {},
   "outputs": [
    {
     "data": {
      "text/plain": [
       "Index(['Order ID', 'Order Date', 'Ship Date', 'Ship Mode', 'Customer Name',\n",
       "       'Segment', 'City', 'State', 'Region', 'Category', 'Sub-Category',\n",
       "       'Product Name', 'Sales', 'Quantity', 'Discount', 'Profit',\n",
       "       'Shipping_Days', 'Order_Year', 'Order_Month', 'Order_Day',\n",
       "       'Profit_Sales_Ratio', 'Profit_Category', 'Revenue_Bin',\n",
       "       'Region_Segment', 'High_Discount'],\n",
       "      dtype='object')"
      ]
     },
     "execution_count": 90,
     "metadata": {},
     "output_type": "execute_result"
    }
   ],
   "source": [
    "df.columns"
   ]
  },
  {
   "cell_type": "code",
   "execution_count": 91,
   "id": "356658ad",
   "metadata": {},
   "outputs": [
    {
     "data": {
      "text/plain": [
       "(9994, 25)"
      ]
     },
     "execution_count": 91,
     "metadata": {},
     "output_type": "execute_result"
    }
   ],
   "source": [
    "df.shape"
   ]
  },
  {
   "cell_type": "markdown",
   "id": "8bb2161c",
   "metadata": {},
   "source": [
    "### **EDA**\n",
    "Exploratory Data Analysis (EDA) is the first step in any data science or machine learning project.\n",
    "\n",
    "It means:\n",
    "\n",
    "\"Exploring the data to understand what it contains, what problems it has, and what patterns we can find.\"\n",
    "\n",
    " **Goals of EDA:**\n",
    " \n",
    " Understand the structure of the data (rows, columns, types)\n",
    "\n",
    " Detect missing values\n",
    "\n",
    " Find outliers or unusual data\n",
    "\n",
    " See the distribution of values (like histograms, countplots)\n",
    "\n",
    " Understand relationships between features (correlation, scatter plots)\n",
    "\n",
    " Summarize basic statistics (mean, median, mode, etc.)\n",
    "\n"
   ]
  },
  {
   "cell_type": "markdown",
   "id": "697b0b4a",
   "metadata": {},
   "source": [
    "## ***Univariate Analysis***\n",
    "\n",
    "Univariate analysis is the simplest form of data analysis where we examine and describe a single variable at a time. Its main goal is to understand the distribution, central tendency (mean, median, mode), spread (standard deviation, range), and outliers of that variable. It often uses visualizations like histograms, box plots, or bar charts to summarize data."
   ]
  },
  {
   "cell_type": "code",
   "execution_count": 92,
   "id": "fdb79018",
   "metadata": {},
   "outputs": [
    {
     "data": {
      "text/plain": [
       "Index(['Order ID', 'Order Date', 'Ship Date', 'Ship Mode', 'Customer Name',\n",
       "       'Segment', 'City', 'State', 'Region', 'Category', 'Sub-Category',\n",
       "       'Product Name', 'Sales', 'Quantity', 'Discount', 'Profit',\n",
       "       'Shipping_Days', 'Order_Year', 'Order_Month', 'Order_Day',\n",
       "       'Profit_Sales_Ratio', 'Profit_Category', 'Revenue_Bin',\n",
       "       'Region_Segment', 'High_Discount'],\n",
       "      dtype='object')"
      ]
     },
     "execution_count": 92,
     "metadata": {},
     "output_type": "execute_result"
    }
   ],
   "source": [
    "df.columns"
   ]
  },
  {
   "cell_type": "code",
   "execution_count": 93,
   "id": "666c83ff",
   "metadata": {},
   "outputs": [
    {
     "data": {
      "text/plain": [
       "Ship Mode\n",
       "Standard Class    5968\n",
       "Second Class      1945\n",
       "First Class       1538\n",
       "Same Day           543\n",
       "Name: count, dtype: int64"
      ]
     },
     "execution_count": 93,
     "metadata": {},
     "output_type": "execute_result"
    }
   ],
   "source": [
    "df['Ship Mode'].value_counts()"
   ]
  },
  {
   "cell_type": "code",
   "execution_count": 94,
   "id": "afc23016",
   "metadata": {},
   "outputs": [
    {
     "data": {
      "image/png": "[encoded data removed]",
      "text/plain": [
       "<Figure size 640x480 with 1 Axes>"
      ]
     },
     "metadata": {},
     "output_type": "display_data"
    }
   ],
   "source": [
    "##Ship Mode Distribution\n",
    "df['Ship Mode'].value_counts().plot(kind='bar', color='skyblue')\n",
    "plt.title(\"Ship Mode Distribution\")\n",
    "plt.ylabel(\"Count\")\n",
    "plt.show()\n"
   ]
  },
  {
   "cell_type": "markdown",
   "id": "c478abb2",
   "metadata": {},
   "source": [
    "Standard Class dominates all shipping methods, with nearly 6000 orders — suggesting it is the default or most cost-effective option.\n",
    "\n",
    "Second Class and First Class are moderately used, indicating usage in premium or urgent delivery cases.\n",
    "\n",
    "Same Day delivery is the least used, likely due to higher cost or limited availability in certain regions."
   ]
  },
  {
   "cell_type": "code",
   "execution_count": 95,
   "id": "0930fbe6",
   "metadata": {},
   "outputs": [
    {
     "data": {
      "image/png": "[encoded data removed]",
      "text/plain": [
       "<Figure size 640x480 with 1 Axes>"
      ]
     },
     "metadata": {},
     "output_type": "display_data"
    }
   ],
   "source": [
    "##Customer Segment Distribution\n",
    "df['Segment'].value_counts().plot(kind='pie', autopct='%1.1f%%')\n",
    "plt.title(\"Customer Segment Share\")\n",
    "plt.ylabel(\"\")\n",
    "plt.show()\n"
   ]
  },
  {
   "cell_type": "markdown",
   "id": "b2a9e1bb",
   "metadata": {},
   "source": [
    "Consumer segment holds the largest share (~52%) of all customers, emphasizing the importance of individual buyers in business.\n",
    "\n",
    "Corporate customers contribute around 30% — a significant secondary market.\n",
    "\n",
    "Home Office has the least proportion (~18%), showing a smaller but consistent niche group."
   ]
  },
  {
   "cell_type": "markdown",
   "id": "120c9bf7",
   "metadata": {},
   "source": [
    "**Which are the Most Ordered Sub-Categories ?**"
   ]
  },
  {
   "cell_type": "code",
   "execution_count": 96,
   "id": "08058b40",
   "metadata": {},
   "outputs": [
    {
     "data": {
      "image/png": "[encoded data removed]",
      "text/plain": [
       "<Figure size 640x480 with 1 Axes>"
      ]
     },
     "metadata": {},
     "output_type": "display_data"
    }
   ],
   "source": [
    "\n",
    "df['Sub-Category'].value_counts().head(10).plot(kind='bar', color='salmon')\n",
    "plt.title(\"Top 10 Sub-Categories Ordered\")\n",
    "plt.xticks(rotation=45)\n",
    "plt.show()\n"
   ]
  },
  {
   "cell_type": "markdown",
   "id": "bc13ef8d",
   "metadata": {},
   "source": [
    "- Binders and Paper are the most frequently ordered items, indicating everyday office utility demand.\n",
    "\n",
    "- Phones, Storage, and Furnishings follow — often high-ticket and essential items.\n",
    "\n",
    "- Lower frequency in Appliances and Labels may imply these are either expensive, niche, or bulk items."
   ]
  },
  {
   "cell_type": "markdown",
   "id": "8a8eca7d",
   "metadata": {},
   "source": [
    "## ***Bivariate Analysis***\n",
    "\n",
    "Bivariate analysis involves analyzing two variables together to understand the relationship between them. This helps identify whether one variable has an effect or pattern with respect to the other. Common tools for bivariate analysis include scatter plots, correlation coefficients, and cross-tabulations. While univariate analysis focuses on one variable in isolation, bivariate analysis helps uncover interactions or trends between two variables."
   ]
  },
  {
   "cell_type": "code",
   "execution_count": 97,
   "id": "44206a3f",
   "metadata": {},
   "outputs": [
    {
     "data": {
      "image/png": "[encoded data removed]",
      "text/plain": [
       "<Figure size 1000x600 with 1 Axes>"
      ]
     },
     "metadata": {},
     "output_type": "display_data"
    }
   ],
   "source": [
    "# Sort data by Sales to avoid zig-zag lines in line plot\n",
    "plt.figure(figsize=(10,6))\n",
    "df_sample = df_sorted.sample(2000)  # pick 2000 random rows\n",
    "sns.lineplot(data=df_sample, x='Sales', y='Profit', hue='Category')\n",
    "\n",
    "plt.title(\"Sales vs Profit by Category (Line Plot)\")\n",
    "plt.xlabel(\"Sales\")\n",
    "plt.ylabel(\"Profit\")\n",
    "plt.legend(title='Category')\n",
    "plt.grid(True)\n",
    "plt.show()\n",
    "\n"
   ]
  },
  {
   "cell_type": "markdown",
   "id": "5a639bb8",
   "metadata": {},
   "source": [
    "- Technology shows wide fluctuations in both sales and profit—high potential but volatile.\n",
    "- Office Supplies display steady performance with moderate profit and sales.\n",
    "- Furniture has a narrow range—low variability in both sales and profit, possibly indicating limited growth.\n"
   ]
  },
  {
   "cell_type": "code",
   "execution_count": 98,
   "id": "8d6e2658",
   "metadata": {},
   "outputs": [
    {
     "data": {
      "image/png": "[encoded data removed]",
      "text/plain": [
       "<Figure size 640x480 with 1 Axes>"
      ]
     },
     "metadata": {},
     "output_type": "display_data"
    }
   ],
   "source": [
    "##Segment vs Profit\n",
    "sns.boxplot(x='Segment', y='Profit', data=df)\n",
    "plt.title(\"Profit Distribution across Segments\")\n",
    "plt.show()\n"
   ]
  },
  {
   "cell_type": "markdown",
   "id": "d41da9a5",
   "metadata": {},
   "source": [
    "- All three segments show a wide spread in profit, with some extreme outliers (both positive and negative).\n",
    "\n",
    "- Consumer segment has slightly better concentration around higher profit values.\n",
    "\n",
    "- Corporate has some of the highest profits but also the most losses.\n",
    "\n",
    "- Home Office shows a narrow interquartile range (IQR), meaning consistent mid-level profits but lower outliers.\n",
    "\n"
   ]
  },
  {
   "cell_type": "code",
   "execution_count": 99,
   "id": "aa66cb26",
   "metadata": {},
   "outputs": [
    {
     "data": {
      "image/png": "[encoded data removed]",
      "text/plain": [
       "<Figure size 640x480 with 1 Axes>"
      ]
     },
     "metadata": {},
     "output_type": "display_data"
    }
   ],
   "source": [
    "##Region-wise Sales\n",
    "region_sales = df.groupby('Region')['Sales'].sum().sort_values()\n",
    "region_sales.plot(kind='barh', color='green')\n",
    "plt.title(\"Sales by Region\")\n",
    "plt.xlabel(\"Total Sales\")\n",
    "plt.show()\n"
   ]
  },
  {
   "cell_type": "markdown",
   "id": "5c60feca",
   "metadata": {},
   "source": [
    "- West and East regions are top performers in total sales.\n",
    "\n",
    "- Central performs moderately, but may need strategic boosts.\n",
    "\n",
    "- South has the lowest sales — indicating potential for regional marketing and delivery improvements."
   ]
  },
  {
   "cell_type": "code",
   "execution_count": 100,
   "id": "e7c6a479",
   "metadata": {},
   "outputs": [
    {
     "data": {
      "image/png": "[encoded data removed]",
      "text/plain": [
       "<Figure size 640x480 with 1 Axes>"
      ]
     },
     "metadata": {},
     "output_type": "display_data"
    }
   ],
   "source": [
    "# Order Analysis\n",
    "# Orders per month\n",
    "order_counts = df['Order_Month'].value_counts().sort_index()\n",
    "order_counts.plot(kind='bar', title='Orders per Month', color='lightblue')\n",
    "plt.xlabel('Month')\n",
    "plt.ylabel('Number of Orders')\n",
    "plt.show()\n"
   ]
  },
  {
   "cell_type": "markdown",
   "id": "a2dc8fcc",
   "metadata": {},
   "source": [
    "- November and December have peak order counts — likely due to holiday shopping (Black Friday, Christmas).\n",
    "\n",
    "- September and October also show a spike, potentially tied to year-end business purchases.\n",
    "\n",
    "- Lowest orders are seen in January and February, possibly due to post-holiday slowdowns."
   ]
  },
  {
   "cell_type": "markdown",
   "id": "5d3bed3c",
   "metadata": {},
   "source": [
    "### **KPIs**"
   ]
  },
  {
   "cell_type": "markdown",
   "id": "1f800973",
   "metadata": {},
   "source": [
    "## *Net sales*"
   ]
  },
  {
   "cell_type": "code",
   "execution_count": 101,
   "id": "6c2df30e",
   "metadata": {},
   "outputs": [
    {
     "name": "stdout",
     "output_type": "stream",
     "text": [
      "Total Sales: 2297200.8603\n"
     ]
    }
   ],
   "source": [
    "print(\"Total Sales:\", df['Sales'].sum())"
   ]
  },
  {
   "cell_type": "markdown",
   "id": "42b6cb9e",
   "metadata": {},
   "source": [
    "## *Total Profit*"
   ]
  },
  {
   "cell_type": "code",
   "execution_count": 102,
   "id": "319f0f53",
   "metadata": {},
   "outputs": [
    {
     "name": "stdout",
     "output_type": "stream",
     "text": [
      "Total Profit: 286397.0217\n"
     ]
    }
   ],
   "source": [
    "print(\"Total Profit:\", df['Profit'].sum())"
   ]
  },
  {
   "cell_type": "markdown",
   "id": "c6b8db73",
   "metadata": {},
   "source": [
    "## *Total quantity sold*"
   ]
  },
  {
   "cell_type": "code",
   "execution_count": 103,
   "id": "236b0597",
   "metadata": {},
   "outputs": [
    {
     "name": "stdout",
     "output_type": "stream",
     "text": [
      "Total Quantity Sold: 37873\n"
     ]
    }
   ],
   "source": [
    "print(\"Total Quantity Sold:\", df['Quantity'].sum())"
   ]
  },
  {
   "cell_type": "markdown",
   "id": "b2b8edb9",
   "metadata": {},
   "source": [
    "## *Total orders*"
   ]
  },
  {
   "cell_type": "code",
   "execution_count": 104,
   "id": "c2977daa",
   "metadata": {},
   "outputs": [
    {
     "name": "stdout",
     "output_type": "stream",
     "text": [
      "Total Orders: 9994\n"
     ]
    }
   ],
   "source": [
    "print(\"Total Orders:\", df.shape[0])"
   ]
  },
  {
   "cell_type": "markdown",
   "id": "36a7a488",
   "metadata": {},
   "source": [
    "## *Unique Products*"
   ]
  },
  {
   "cell_type": "code",
   "execution_count": 105,
   "id": "338907c6",
   "metadata": {},
   "outputs": [
    {
     "name": "stdout",
     "output_type": "stream",
     "text": [
      "Unique Products: 1850\n"
     ]
    }
   ],
   "source": [
    "print(\"Unique Products:\", df['Product Name'].nunique())"
   ]
  },
  {
   "cell_type": "markdown",
   "id": "20d23045",
   "metadata": {},
   "source": [
    "## *Unique cities*"
   ]
  },
  {
   "cell_type": "code",
   "execution_count": 106,
   "id": "91495f1f",
   "metadata": {},
   "outputs": [
    {
     "name": "stdout",
     "output_type": "stream",
     "text": [
      "Unique Cities: 531\n"
     ]
    }
   ],
   "source": [
    "print(\"Unique Cities:\", df['City'].nunique())"
   ]
  },
  {
   "cell_type": "markdown",
   "id": "29b062f6",
   "metadata": {},
   "source": [
    "**Year and quarter with highest sales**"
   ]
  },
  {
   "cell_type": "code",
   "execution_count": 107,
   "id": "784b62e3",
   "metadata": {},
   "outputs": [
    {
     "data": {
      "image/png": "[encoded data removed]",
      "text/plain": [
       "<Figure size 640x480 with 1 Axes>"
      ]
     },
     "metadata": {},
     "output_type": "display_data"
    }
   ],
   "source": [
    "df['Quarter'] = df['Order Date'].dt.to_period('Q')\n",
    "quarter_sales = df.groupby('Quarter')['Sales'].sum().sort_values(ascending=False)\n",
    "quarter_sales.plot(kind='bar', color='purple', title='Sales by Quarter')\n",
    "plt.ylabel('Sales')\n",
    "plt.xlabel('Quarter')\n",
    "plt.show()\n"
   ]
  },
  {
   "cell_type": "markdown",
   "id": "e67b8bd1",
   "metadata": {},
   "source": [
    "2017 Q4 shows the highest sales across all quarters — again highlighting the year-end demand boost.\n",
    "\n",
    "Sales generally increase over the years, with 2016 and 2017 consistently outperforming earlier periods.\n",
    "\n",
    "Q1 of all years tends to be the lowest-performing, suggesting seasonal lull."
   ]
  },
  {
   "cell_type": "markdown",
   "id": "9aca6094",
   "metadata": {},
   "source": [
    "**Sales, Profit, Quantity by Ship Mode**"
   ]
  },
  {
   "cell_type": "code",
   "execution_count": 108,
   "id": "3da960f3",
   "metadata": {},
   "outputs": [
    {
     "data": {
      "image/png": "[encoded data removed]",
      "text/plain": [
       "<Figure size 640x480 with 1 Axes>"
      ]
     },
     "metadata": {},
     "output_type": "display_data"
    }
   ],
   "source": [
    "\n",
    "ship_mode_stats = df.groupby('Ship Mode')[['Sales', 'Profit', 'Quantity']].sum()\n",
    "ship_mode_stats.plot(kind='bar', title='Sales, Profit, and Quantity by Ship Mode')\n",
    "plt.ylabel('Values')\n",
    "plt.show()\n",
    "\n",
    "\n"
   ]
  },
  {
   "cell_type": "markdown",
   "id": "c2bf6097",
   "metadata": {},
   "source": [
    "Standard Class not only leads in sales but also in profit and quantity — proving it’s efficient and profitable.\n",
    "\n",
    "First Class has better profitability than Second Class, despite fewer orders — possibly due to higher-value items.\n",
    "\n",
    "Same Day service has lowest profit, possibly due to operational costs outweighing order value."
   ]
  },
  {
   "cell_type": "markdown",
   "id": "c9950ca3",
   "metadata": {},
   "source": [
    "**Segment-wise Sales and Profit**"
   ]
  },
  {
   "cell_type": "code",
   "execution_count": 109,
   "id": "4f2e8530",
   "metadata": {},
   "outputs": [
    {
     "data": {
      "image/png": "[encoded data removed]",
      "text/plain": [
       "<Figure size 640x480 with 1 Axes>"
      ]
     },
     "metadata": {},
     "output_type": "display_data"
    }
   ],
   "source": [
    "segment_stats = df.groupby('Segment')[['Sales', 'Profit']].sum()\n",
    "segment_stats.plot(kind='bar', title='Segment-wise Sales and Profit', color=['blue', 'green'])\n",
    "plt.ylabel('Values')\n",
    "plt.show()"
   ]
  },
  {
   "cell_type": "markdown",
   "id": "8c3d192c",
   "metadata": {},
   "source": [
    "Consumer segment brings maximum sales and profit, making it the core focus for marketing and promotions.\n",
    "\n",
    "Corporate performs well, especially in profit, despite lower volume than consumer.\n",
    "\n",
    "Home Office is the least profitable and lowest in sales — may require strategic push or review."
   ]
  },
  {
   "cell_type": "markdown",
   "id": "4cd4d4db",
   "metadata": {},
   "source": [
    "**Which are the Top Regions, States, Cities by sales and profit ?**"
   ]
  },
  {
   "cell_type": "code",
   "execution_count": 110,
   "id": "a5147478",
   "metadata": {},
   "outputs": [
    {
     "data": {
      "image/png": "[encoded data removed]",
      "text/plain": [
       "<Figure size 640x480 with 1 Axes>"
      ]
     },
     "metadata": {},
     "output_type": "display_data"
    },
    {
     "data": {
      "image/png": "[encoded data removed]",
      "text/plain": [
       "<Figure size 640x480 with 1 Axes>"
      ]
     },
     "metadata": {},
     "output_type": "display_data"
    },
    {
     "data": {
      "image/png": "[encoded data removed]",
      "text/plain": [
       "<Figure size 640x480 with 1 Axes>"
      ]
     },
     "metadata": {},
     "output_type": "display_data"
    }
   ],
   "source": [
    "for col in ['Region', 'State', 'City']:\n",
    "    top = df.groupby(col)[['Sales', 'Profit']].sum().sort_values(by='Sales', ascending=False).head(10)\n",
    "    top.plot(kind='bar', title=f'Top {col}s by Sales and Profit')\n",
    "    plt.ylabel('Values')\n",
    "    plt.show()\n",
    "\n"
   ]
  },
  {
   "cell_type": "markdown",
   "id": "c41d4d46",
   "metadata": {},
   "source": [
    "**Top regions by sales and profit**\n",
    "\n",
    "- West region leads in both sales and profit, making it the most profitable zone.\n",
    "- South region lags behind, recording the lowest figures in both categories.\n",
    "- Sales and profit follow a similar pattern across all regions, indicating proportional performance.\n",
    "\n",
    "\n",
    "**Top states by sales and profit**\n",
    "\n",
    "- California tops both sales and profit charts by a wide margin.\n",
    "- Texas shows a troubling contrast—strong sales but negative profit.\n",
    "- Most other states (like New York, Washington, and Pennsylvania) have moderate sales paired with consistent positive profit.\n",
    "\n",
    "**Top cities by sales and profit**\n",
    "\n",
    "- New York City dominates with the highest sales and profit.\n",
    "- Springfield ranks lowest in both metrics.\n",
    "- Most cities show a consistent pattern—higher sales generally mean higher profit, with only slight deviations.\n",
    "\n",
    "\n"
   ]
  },
  {
   "cell_type": "markdown",
   "id": "1d381c53",
   "metadata": {},
   "source": [
    "**Which are the Top Product by Sales and Profit ?**"
   ]
  },
  {
   "cell_type": "code",
   "execution_count": 111,
   "id": "61bf1aaa",
   "metadata": {},
   "outputs": [
    {
     "data": {
      "image/png": "[encoded data removed]",
      "text/plain": [
       "<Figure size 640x480 with 1 Axes>"
      ]
     },
     "metadata": {},
     "output_type": "display_data"
    }
   ],
   "source": [
    "top_product = df.groupby('Product Name')[['Sales', 'Profit']].sum().sort_values(by='Sales', ascending=False).head(10)\n",
    "top_product.plot(kind='barh', title='Top 10 Products by Sales and Profit')\n",
    "plt.xlabel('Values')\n",
    "plt.show()\n",
    "\n"
   ]
  },
  {
   "cell_type": "markdown",
   "id": "6c65fcce",
   "metadata": {},
   "source": [
    "**- Top Performers in Sales:**\n",
    "-  Canon imageCLASS 2200 Advanced Copier shows the highest sales across all products—but surprisingly, its profit is modest compared to others.\n",
    "\n",
    "-  HON 5400 Series Task Chairs for Big and Tall has strong sales, yet its profit remains low, indicating possible cost inefficiencies or pricing issues.\n",
    "\n",
    "-  HP Designjet T520 and Hewlett Packard LaserJet 3310 also generate high sales with moderate profit margins.\n",
    "\n",
    "\n",
    "- **Top Performers in Profit:**\n",
    "-  Fellowes PB500 Electric Punch stands out with the highest profit, even though its sales aren't top-tier—suggesting great margins or lower costs.\n",
    "\n",
    "-  GBC DocuBind P400 and High Speed Electric Letter Opener deliver balanced performance in both sales and profit.\n",
    "\n",
    "\n",
    "- **Underperformers:**\n",
    "-  GBC Ibimaster 500 Manual ProClick Binding System struggles on both fronts—low sales and minimal profit.\n",
    "\n",
    "-  Cisco TelePresence System EX90 sits in the middle range—neither standout nor poor performer, but perhaps not scaling as expected.\n",
    "\n",
    "\n",
    "- **Interesting Contrasts:**\n",
    "-  Products like Canon imageCLASS 2200 and HON Task Chairs show that high sales don’t always mean high profit.\n",
    "\n",
    "-  On the flip side, items like Fellowes PB500 and GBC DocuBind P400 suggest lower sales can still drive strong profit if margins are right.\n",
    "\n",
    "\n",
    "- **General Trend:**\n",
    "-  Most products show a positive correlation between sales and profit, but with a few outliers where profitability is driven more by efficiency than volume.\n",
    "\n"
   ]
  },
  {
   "cell_type": "markdown",
   "id": "a8397472",
   "metadata": {},
   "source": [
    "**Discount vs Sales**"
   ]
  },
  {
   "cell_type": "code",
   "execution_count": 112,
   "id": "71820dc5",
   "metadata": {},
   "outputs": [
    {
     "data": {
      "image/png": "[encoded data removed]",
      "text/plain": [
       "<Figure size 640x480 with 1 Axes>"
      ]
     },
     "metadata": {},
     "output_type": "display_data"
    }
   ],
   "source": [
    "sns.scatterplot(data=df, x='Discount', y='Sales')\n",
    "plt.title('Discount vs Sales')\n",
    "plt.show()\n"
   ]
  },
  {
   "cell_type": "markdown",
   "id": "a57c5208",
   "metadata": {},
   "source": [
    "- Higher discounts (above 0.3) don't seem to result in significantly higher sales—many high-sales data points actually occur at lower discount levels.\n",
    "\n",
    "- Sales cluster mostly around discounts between 0.1 and 0.3, suggesting that moderate discounts may be optimal.\n",
    "\n",
    "- A few outliers show strong sales with minimal or no discount, hinting that pricing isn't the only driver of purchase behavior.\n"
   ]
  },
  {
   "cell_type": "markdown",
   "id": "445fc19d",
   "metadata": {},
   "source": [
    "**Discount vs profit**"
   ]
  },
  {
   "cell_type": "code",
   "execution_count": 113,
   "id": "fa044d41",
   "metadata": {},
   "outputs": [
    {
     "data": {
      "image/png": "[encoded data removed]",
      "text/plain": [
       "<Figure size 640x480 with 1 Axes>"
      ]
     },
     "metadata": {},
     "output_type": "display_data"
    }
   ],
   "source": [
    "sns.scatterplot(data=df, x='Discount', y='Profit')\n",
    "plt.title('Discount vs Profit')\n",
    "plt.show()\n"
   ]
  },
  {
   "cell_type": "markdown",
   "id": "de2fd2c9",
   "metadata": {},
   "source": [
    "- Higher Discounts (above 0.3) tend to result in negative profit, indicating that steep discounts may eat into margins or even cause losses.\n",
    "\n",
    "- Moderate Discounts (around 0.1–0.3) show a mix of outcomes—some data points still show positive profit, suggesting this range might be the sweet spot.\n",
    "\n",
    "- Low Discounts (below 0.1) correlate more frequently with positive profit, hinting that minimal discounting can still drive profitability.\n",
    "\n",
    "- There are a few outliers with high profit even at medium discounts, which might reflect high-margin products or bundling strategies.\n",
    "Let me know if you’d like help identifying the optimal discount strategy based on this trend!\n"
   ]
  },
  {
   "cell_type": "markdown",
   "id": "7164fa7a",
   "metadata": {},
   "source": [
    "**Which are the Top 5 Best-Selling Products by Quantity**"
   ]
  },
  {
   "cell_type": "code",
   "execution_count": 114,
   "id": "14fe651c",
   "metadata": {},
   "outputs": [
    {
     "data": {
      "image/png": "[encoded data removed]",
      "text/plain": [
       "<Figure size 640x480 with 1 Axes>"
      ]
     },
     "metadata": {},
     "output_type": "display_data"
    }
   ],
   "source": [
    "top_qty = df.groupby('Product Name')['Quantity'].sum().sort_values(ascending=False).head(5)\n",
    "top_qty.plot(kind='bar', color='orange', title='Top 5 Products by Quantity Sold')\n",
    "plt.ylabel('Quantity')\n",
    "plt.show()"
   ]
  },
  {
   "cell_type": "markdown",
   "id": "2dff0f33",
   "metadata": {},
   "source": [
    "**Product Performance Highlights**\n",
    "- Staples are the top-selling item, with around 210 units sold, indicating high demand for basic office supplies.\n",
    "- Staple Envelopes and Easy-Staple Paper also show strong performance, at 160 and 140 units respectively.\n",
    "- Staples in Miscellaneous Colors rank fourth, with about 80 units sold, possibly appealing to niche or design-focused use cases.\n",
    "- Adjustable-Height Table rounds out the top 5, with 70 units sold, suggesting moderate interest in ergonomic or furniture-related items.\n",
    "**Quick Takeaways**\n",
    "- Essentials like staples and paper-related products dominate the sales volume.\n",
    "- Furniture makes it into the top 5 but is clearly not the top driver by quantity.\n",
    "- The spread in quantities is significant—from 210 units down to 70—indicating a steep drop-off after the top few items.\n",
    "\n"
   ]
  },
  {
   "cell_type": "markdown",
   "id": "ee62144c",
   "metadata": {},
   "source": [
    "**Observations for Visuals**\n",
    "\n",
    "Observations:\n",
    "1. Quarter with highest sales shows seasonal spikes, indicating promotions or holiday season.\n",
    "2. Standard Class is the most used Ship Mode and also generates the most revenue.\n",
    "3. The Consumer segment leads in both sales and profit.\n",
    "4. States like California and New York dominate in sales and profitability.\n",
    "5. Some discounts increase sales but drastically reduce profits — over-discounting should be avoided.\n",
    "6. Products like Binders and Paper sell the most units but may not be the most profitable.\n"
   ]
  },
  {
   "cell_type": "markdown",
   "id": "ed0926c3",
   "metadata": {},
   "source": [
    "## **Key Insights**\n",
    "\n",
    "**1. Shipping & Delivery:**\n",
    "\n",
    "Standard Class is the most preferred shipping mode (over 60% usage).\n",
    "\n",
    "Shorter shipping time generally leads to better customer experience, but Same Day delivery is least used, likely due to high cost.\n",
    "\n",
    "**2. Customer Segments:**\n",
    "\n",
    "Consumer segment dominates both in order volume (~52%) and total revenue.\n",
    "\n",
    "Corporate customers yield significant profit despite fewer orders.\n",
    "\n",
    "**3. Product Trends:**\n",
    "\n",
    "Binders, Paper, and Furnishings are the most frequently ordered sub-categories.\n",
    "\n",
    "Top-selling items don’t always translate to highest profit (e.g., binders have large volume but moderate profitability).\n",
    "\n",
    "**4. Temporal Sales Patterns:**\n",
    "\n",
    "Highest orders and sales occur in Q4, especially November and December – indicating strong seasonal demand.\n",
    "\n",
    "Q1 months (Jan–March) consistently see the lowest sales.\n",
    "\n",
    "**5. Regional Performance:**\n",
    "\n",
    "West and East regions have the highest sales, whereas South lags behind.\n",
    "\n",
    "Cities in California and New York contribute significantly to profit.\n",
    "\n",
    "**6. Discount Analysis:**\n",
    "\n",
    "Heavy discounts do not always increase profits. In fact, higher discounts often correlate with profit loss.\n",
    "\n",
    "Strategic discounting is essential to retain profitability.\n",
    "\n",
    "**7. Profitability Distribution:**\n",
    "\n",
    "There are many outliers in profit, especially in the Corporate segment — pointing to high-value transactions with varying margins.\n",
    "\n"
   ]
  },
  {
   "cell_type": "markdown",
   "id": "bdc218e6",
   "metadata": {},
   "source": [
    "## **Recommendations**\n",
    "\n",
    "**1. Optimize Discounts:**\n",
    "\n",
    "Conduct A/B testing on discount thresholds to find the sweet spot that maximizes both sales and profit.\n",
    "\n",
    "**2. Target High-Performing Segments:**\n",
    "\n",
    "Focus more on the Consumer segment with loyalty programs and upselling strategies.\n",
    "\n",
    "Nurture Corporate clients with custom pricing or bulk deals due to their profitability.\n",
    "\n",
    "**3. Improve South Region Performance:**\n",
    "\n",
    "Investigate logistics, marketing, and demand in the South region to boost performance.\n",
    "\n",
    "**4. Reassess Same-Day Delivery:**\n",
    "\n",
    "Evaluate costs of Same Day shipping and its impact on profit margins. Promote it only for high-margin products.\n",
    "\n",
    "**5. Inventory Management:**\n",
    "\n",
    "Ensure that top-selling sub-categories like Binders and Paper are well-stocked during Q4.\n",
    "\n",
    "**6. Profit-Driven Product Strategy:**\n",
    "\n",
    "Focus on marketing and bundling high-profit products, not just high-volume ones.\n",
    "\n",
    "**7. Leverage Seasonal Demand:**\n",
    "\n",
    "Launch promotional campaigns in Q4 and plan inventory in advance for the holiday season."
   ]
  },
  {
   "cell_type": "markdown",
   "id": "119329e8",
   "metadata": {},
   "source": [
    "## **Conclusion**\n",
    "The exploratory data analysis (EDA) of the Superstore dataset provided meaningful insights into sales performance, customer behavior, and regional and product trends. With over 9,900 records across various dimensions like segment, region, product, and order details, the dataset offered a rich view of retail operations.\n",
    "\n",
    "We identified strong patterns in seasonal sales, segment performance, shipping preferences, and discount impact. Feature engineering enhanced our analysis by creating new dimensions like shipping delays, profit categories, and revenue bins.\n",
    "\n",
    "This analysis will serve as a data-driven foundation for strategic decisions in marketing, inventory, and operations."
   ]
  }
 ],
 "metadata": {
  "kernelspec": {
   "display_name": "Python 3",
   "language": "python",
   "name": "python3"
  },
  "language_info": {
   "codemirror_mode": {
    "name": "ipython",
    "version": 3
   },
   "file_extension": ".py",
   "mimetype": "text/x-python",
   "name": "python",
   "nbconvert_exporter": "python",
   "pygments_lexer": "ipython3",
   "version": "3.13.3"
  }
 },
 "nbformat": 4,
 "nbformat_minor": 5
}
